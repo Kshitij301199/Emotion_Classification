{
 "cells": [
  {
   "cell_type": "code",
   "execution_count": 19,
   "metadata": {},
   "outputs": [],
   "source": [
    "import os\n",
    "import sys\n",
    "import torch\n",
    "import pickle\n",
    "import torch.nn as nn\n",
    "import pandas as pd\n",
    "import numpy as np\n",
    "\n",
    "from sklearn.model_selection import train_test_split\n",
    "from torch.utils.data import Dataset, DataLoader\n",
    "\n",
    "sys.path.append(os.path.abspath(os.path.join(os.getcwd(),'..')))\n",
    "\n",
    "from model.CNN_model import CNNTextClassifier\n",
    "from model.BiLSTM_model import BiLSTMModel\n",
    "from language_model import train, evaluate\n",
    "from evaluation import confusion_matrix, class_accuracy, class_f1_score,\\\n",
    "    class_wise_precision_recall, plot_confusion_matrix\n",
    "from utils import tokenize, remove_stopwords, stemming, fit_tokenizer, plot_loss_acc,\\\n",
    "    pad_sequence, PandasDataset, get_batched_data, get_class_weights, split_train_val_dataloader "
   ]
  },
  {
   "cell_type": "markdown",
   "metadata": {},
   "source": [
    "# Data Preparation"
   ]
  },
  {
   "cell_type": "code",
   "execution_count": 2,
   "metadata": {},
   "outputs": [
    {
     "data": {
      "text/html": [
       "<div>\n",
       "<style scoped>\n",
       "    .dataframe tbody tr th:only-of-type {\n",
       "        vertical-align: middle;\n",
       "    }\n",
       "\n",
       "    .dataframe tbody tr th {\n",
       "        vertical-align: top;\n",
       "    }\n",
       "\n",
       "    .dataframe thead th {\n",
       "        text-align: right;\n",
       "    }\n",
       "</style>\n",
       "<table border=\"1\" class=\"dataframe\">\n",
       "  <thead>\n",
       "    <tr style=\"text-align: right;\">\n",
       "      <th></th>\n",
       "      <th>text</th>\n",
       "      <th>label</th>\n",
       "    </tr>\n",
       "  </thead>\n",
       "  <tbody>\n",
       "    <tr>\n",
       "      <th>326935</th>\n",
       "      <td>i go into or the more happiness i feel the mor...</td>\n",
       "      <td>1</td>\n",
       "    </tr>\n",
       "    <tr>\n",
       "      <th>410898</th>\n",
       "      <td>i feel like its just about all i talk about th...</td>\n",
       "      <td>0</td>\n",
       "    </tr>\n",
       "    <tr>\n",
       "      <th>215052</th>\n",
       "      <td>i was feeling what would be the perfect respon...</td>\n",
       "      <td>1</td>\n",
       "    </tr>\n",
       "    <tr>\n",
       "      <th>263533</th>\n",
       "      <td>i am feeling really homesick and hence out of ...</td>\n",
       "      <td>0</td>\n",
       "    </tr>\n",
       "    <tr>\n",
       "      <th>374711</th>\n",
       "      <td>i am quite pleased with myself and i am feelin...</td>\n",
       "      <td>1</td>\n",
       "    </tr>\n",
       "    <tr>\n",
       "      <th>81452</th>\n",
       "      <td>i open it up and go through the pieces of pape...</td>\n",
       "      <td>1</td>\n",
       "    </tr>\n",
       "    <tr>\n",
       "      <th>113546</th>\n",
       "      <td>i feel good about especially in my daily routi...</td>\n",
       "      <td>1</td>\n",
       "    </tr>\n",
       "    <tr>\n",
       "      <th>16023</th>\n",
       "      <td>i feel invigorated and jolly</td>\n",
       "      <td>1</td>\n",
       "    </tr>\n",
       "    <tr>\n",
       "      <th>147565</th>\n",
       "      <td>i was starting to feel this wonderful unity wi...</td>\n",
       "      <td>1</td>\n",
       "    </tr>\n",
       "    <tr>\n",
       "      <th>72871</th>\n",
       "      <td>i accomplish little i feel defeated and frustr...</td>\n",
       "      <td>0</td>\n",
       "    </tr>\n",
       "  </tbody>\n",
       "</table>\n",
       "</div>"
      ],
      "text/plain": [
       "                                                     text  label\n",
       "326935  i go into or the more happiness i feel the mor...      1\n",
       "410898  i feel like its just about all i talk about th...      0\n",
       "215052  i was feeling what would be the perfect respon...      1\n",
       "263533  i am feeling really homesick and hence out of ...      0\n",
       "374711  i am quite pleased with myself and i am feelin...      1\n",
       "81452   i open it up and go through the pieces of pape...      1\n",
       "113546  i feel good about especially in my daily routi...      1\n",
       "16023                        i feel invigorated and jolly      1\n",
       "147565  i was starting to feel this wonderful unity wi...      1\n",
       "72871   i accomplish little i feel defeated and frustr...      0"
      ]
     },
     "execution_count": 2,
     "metadata": {},
     "output_type": "execute_result"
    }
   ],
   "source": [
    "data = pd.read_csv(\"../data/text.csv\").drop(columns=\"Unnamed: 0\")\n",
    "data.sample(10)"
   ]
  },
  {
   "cell_type": "code",
   "execution_count": 3,
   "metadata": {},
   "outputs": [
    {
     "name": "stdout",
     "output_type": "stream",
     "text": [
      "<class 'pandas.core.frame.DataFrame'>\n",
      "RangeIndex: 416809 entries, 0 to 416808\n",
      "Data columns (total 2 columns):\n",
      " #   Column  Non-Null Count   Dtype \n",
      "---  ------  --------------   ----- \n",
      " 0   text    416809 non-null  object\n",
      " 1   label   416809 non-null  int64 \n",
      "dtypes: int64(1), object(1)\n",
      "memory usage: 6.4+ MB\n"
     ]
    }
   ],
   "source": [
    "data.info()"
   ]
  },
  {
   "cell_type": "code",
   "execution_count": 4,
   "metadata": {},
   "outputs": [],
   "source": [
    "# data.duplicated().sum()\n",
    "data.drop_duplicates(inplace= True)"
   ]
  },
  {
   "cell_type": "markdown",
   "metadata": {},
   "source": [
    "### Tokenize, stem and remove stopwords "
   ]
  },
  {
   "cell_type": "code",
   "execution_count": 6,
   "metadata": {},
   "outputs": [
    {
     "data": {
      "text/html": [
       "<div>\n",
       "<style scoped>\n",
       "    .dataframe tbody tr th:only-of-type {\n",
       "        vertical-align: middle;\n",
       "    }\n",
       "\n",
       "    .dataframe tbody tr th {\n",
       "        vertical-align: top;\n",
       "    }\n",
       "\n",
       "    .dataframe thead th {\n",
       "        text-align: right;\n",
       "    }\n",
       "</style>\n",
       "<table border=\"1\" class=\"dataframe\">\n",
       "  <thead>\n",
       "    <tr style=\"text-align: right;\">\n",
       "      <th></th>\n",
       "      <th>text</th>\n",
       "      <th>label</th>\n",
       "      <th>tokens_stemm</th>\n",
       "    </tr>\n",
       "  </thead>\n",
       "  <tbody>\n",
       "    <tr>\n",
       "      <th>310807</th>\n",
       "      <td>i stare into the flames i can t help but feel ...</td>\n",
       "      <td>1</td>\n",
       "      <td>[stare, flame, help, feel, thank]</td>\n",
       "    </tr>\n",
       "    <tr>\n",
       "      <th>166328</th>\n",
       "      <td>i really think anyone reads this but i still f...</td>\n",
       "      <td>0</td>\n",
       "      <td>[realli, think, anyon, read, still, feel, negl...</td>\n",
       "    </tr>\n",
       "    <tr>\n",
       "      <th>10922</th>\n",
       "      <td>i like to cry at stories that touch my heart a...</td>\n",
       "      <td>0</td>\n",
       "      <td>[like, cri, stori, touch, heart, feel, real, e...</td>\n",
       "    </tr>\n",
       "    <tr>\n",
       "      <th>397526</th>\n",
       "      <td>i run more lose weight my pace gets better and...</td>\n",
       "      <td>1</td>\n",
       "      <td>[run, lose, weight, pace, get, better, feel, b...</td>\n",
       "    </tr>\n",
       "    <tr>\n",
       "      <th>277673</th>\n",
       "      <td>i love the way i feel after a night of sweet d...</td>\n",
       "      <td>2</td>\n",
       "      <td>[love, way, feel, night, sweet, deep, sleep, b...</td>\n",
       "    </tr>\n",
       "    <tr>\n",
       "      <th>348132</th>\n",
       "      <td>i feel an urgency to see your handsome face</td>\n",
       "      <td>1</td>\n",
       "      <td>[feel, urgenc, see, handsom, face]</td>\n",
       "    </tr>\n",
       "    <tr>\n",
       "      <th>143840</th>\n",
       "      <td>i didn t really test it yet but i can feel the...</td>\n",
       "      <td>1</td>\n",
       "      <td>[realli, test, yet, feel, differ, laptop, casu...</td>\n",
       "    </tr>\n",
       "    <tr>\n",
       "      <th>370990</th>\n",
       "      <td>i feel hated helping prevent gay teen suicide ...</td>\n",
       "      <td>3</td>\n",
       "      <td>[feel, hate, help, prevent, gay, teen, suicid,...</td>\n",
       "    </tr>\n",
       "    <tr>\n",
       "      <th>68572</th>\n",
       "      <td>i most feel how precious each minute with him ...</td>\n",
       "      <td>1</td>\n",
       "      <td>[feel, preciou, minut, quickli, day, pass]</td>\n",
       "    </tr>\n",
       "    <tr>\n",
       "      <th>13257</th>\n",
       "      <td>i actually go to the show i didnt feel weird o...</td>\n",
       "      <td>5</td>\n",
       "      <td>[actual, go, show, didnt, feel, weird, place]</td>\n",
       "    </tr>\n",
       "  </tbody>\n",
       "</table>\n",
       "</div>"
      ],
      "text/plain": [
       "                                                     text  label  \\\n",
       "310807  i stare into the flames i can t help but feel ...      1   \n",
       "166328  i really think anyone reads this but i still f...      0   \n",
       "10922   i like to cry at stories that touch my heart a...      0   \n",
       "397526  i run more lose weight my pace gets better and...      1   \n",
       "277673  i love the way i feel after a night of sweet d...      2   \n",
       "348132        i feel an urgency to see your handsome face      1   \n",
       "143840  i didn t really test it yet but i can feel the...      1   \n",
       "370990  i feel hated helping prevent gay teen suicide ...      3   \n",
       "68572   i most feel how precious each minute with him ...      1   \n",
       "13257   i actually go to the show i didnt feel weird o...      5   \n",
       "\n",
       "                                             tokens_stemm  \n",
       "310807                  [stare, flame, help, feel, thank]  \n",
       "166328  [realli, think, anyon, read, still, feel, negl...  \n",
       "10922   [like, cri, stori, touch, heart, feel, real, e...  \n",
       "397526  [run, lose, weight, pace, get, better, feel, b...  \n",
       "277673  [love, way, feel, night, sweet, deep, sleep, b...  \n",
       "348132                 [feel, urgenc, see, handsom, face]  \n",
       "143840  [realli, test, yet, feel, differ, laptop, casu...  \n",
       "370990  [feel, hate, help, prevent, gay, teen, suicid,...  \n",
       "68572          [feel, preciou, minut, quickli, day, pass]  \n",
       "13257       [actual, go, show, didnt, feel, weird, place]  "
      ]
     },
     "execution_count": 6,
     "metadata": {},
     "output_type": "execute_result"
    }
   ],
   "source": [
    "data['tokens_stemm'] = data['text'].apply(tokenize).apply(remove_stopwords).apply(stemming)\n",
    "# data['tokens_stemm'] = data['tokens']\n",
    "data = data[~(data['tokens_stemm'].apply(len) == 0)]\n",
    "data.sample(10)"
   ]
  },
  {
   "cell_type": "markdown",
   "metadata": {},
   "source": [
    "### Split data into train and test sets. Calculate class weights."
   ]
  },
  {
   "cell_type": "code",
   "execution_count": 7,
   "metadata": {},
   "outputs": [
    {
     "name": "stdout",
     "output_type": "stream",
     "text": [
      "Class Weights : tensor([0.5732, 0.4926, 2.0104, 1.2118, 1.4551, 4.6361])\n",
      "Train size: 332886\tTest size: 83222\n"
     ]
    }
   ],
   "source": [
    "# Split data into train and test\n",
    "x_train, x_test, y_train, y_test = train_test_split(data['tokens_stemm'], data['label'], test_size=0.2, random_state=42)\n",
    "# Calculate class weights\n",
    "class_weights = get_class_weights(data['label'])\n",
    "print(f\"Class Weights : {class_weights}\")\n",
    "\n",
    "train_data = pd.concat((x_train,y_train), axis=1).reset_index()\n",
    "test_data = pd.concat((x_test,y_test), axis=1).reset_index()\n",
    "print(f\"Train size: {len(train_data)}\\tTest size: {len(test_data)}\")"
   ]
  },
  {
   "cell_type": "markdown",
   "metadata": {},
   "source": [
    "### Fit tokenizer"
   ]
  },
  {
   "cell_type": "code",
   "execution_count": 8,
   "metadata": {},
   "outputs": [
    {
     "name": "stdout",
     "output_type": "stream",
     "text": [
      "Tokenizer saved to file.\n"
     ]
    }
   ],
   "source": [
    "tokenizer = fit_tokenizer(data['tokens_stemm'])\n",
    "with open('tokenizer.pickle', 'wb') as handle:\n",
    "    pickle.dump(tokenizer, handle, protocol=pickle.HIGHEST_PROTOCOL)\n",
    "print(\"Tokenizer saved to file.\")"
   ]
  },
  {
   "cell_type": "markdown",
   "metadata": {},
   "source": [
    "### Pad the sequences to have uniform length. Batch the data for training."
   ]
  },
  {
   "cell_type": "code",
   "execution_count": 9,
   "metadata": {},
   "outputs": [
    {
     "name": "stdout",
     "output_type": "stream",
     "text": [
      "Data prepared for model!\n"
     ]
    }
   ],
   "source": [
    "train_data['padded'] = train_data['tokens_stemm'].apply(pad_sequence, tokenizer= tokenizer)\n",
    "test_data['padded'] = test_data['tokens_stemm'].apply(pad_sequence, tokenizer= tokenizer)\n",
    "print(\"Data prepared for model!\")\n",
    "train_dataset = PandasDataset(train_data)\n",
    "test_dataset = PandasDataset(test_data)\n",
    "train_batched = get_batched_data(train_dataset, batch_size= 256)\n",
    "test_batched = get_batched_data(test_dataset, batch_size= 64)"
   ]
  },
  {
   "cell_type": "markdown",
   "metadata": {},
   "source": [
    "# CNN"
   ]
  },
  {
   "cell_type": "markdown",
   "metadata": {},
   "source": [
    "### Initialise the model"
   ]
  },
  {
   "cell_type": "code",
   "execution_count": 16,
   "metadata": {},
   "outputs": [
    {
     "name": "stdout",
     "output_type": "stream",
     "text": [
      "CNNTextClassifier(\n",
      "  (embedding): Embedding(52000, 32)\n",
      "  (conv): Sequential(\n",
      "    (0): Conv1d(32, 24, kernel_size=(5,), stride=(1,))\n",
      "    (1): MaxPool1d(kernel_size=96, stride=96, padding=0, dilation=1, ceil_mode=False)\n",
      "    (2): ReLU()\n",
      "  )\n",
      "  (dense): Sequential(\n",
      "    (0): Linear(in_features=24, out_features=16, bias=True)\n",
      "    (1): ReLU()\n",
      "    (2): Linear(in_features=16, out_features=6, bias=True)\n",
      "    (3): Softmax(dim=1)\n",
      "  )\n",
      ")\n"
     ]
    }
   ],
   "source": [
    "model = CNNTextClassifier()\n",
    "print(model)"
   ]
  },
  {
   "cell_type": "code",
   "execution_count": 17,
   "metadata": {},
   "outputs": [
    {
     "name": "stdout",
     "output_type": "stream",
     "text": [
      "Number of parameters: 1668366\n"
     ]
    }
   ],
   "source": [
    "print(f\"Number of parameters: {sum(p.numel() for p in model.parameters() if p.requires_grad)}\")"
   ]
  },
  {
   "cell_type": "markdown",
   "metadata": {},
   "source": [
    "### Train the model"
   ]
  },
  {
   "cell_type": "code",
   "execution_count": 18,
   "metadata": {},
   "outputs": [
    {
     "name": "stderr",
     "output_type": "stream",
     "text": [
      "  0%|          | 0/976 [00:00<?, ?it/s]"
     ]
    },
    {
     "name": "stdout",
     "output_type": "stream",
     "text": [
      "CrossEntropyLoss()\n",
      "Adam (\n",
      "Parameter Group 0\n",
      "    amsgrad: False\n",
      "    betas: (0.9, 0.999)\n",
      "    capturable: False\n",
      "    differentiable: False\n",
      "    eps: 1e-08\n",
      "    foreach: None\n",
      "    fused: None\n",
      "    initial_lr: 0.001\n",
      "    lr: 0.001\n",
      "    maximize: False\n",
      "    weight_decay: 0\n",
      ")\n",
      "<torch.optim.lr_scheduler.CosineAnnealingLR object at 0x0000021D86243BB0>\n"
     ]
    },
    {
     "name": "stderr",
     "output_type": "stream",
     "text": [
      "100%|██████████| 976/976 [03:14<00:00,  5.02it/s]\n",
      "  0%|          | 0/976 [00:00<?, ?it/s]"
     ]
    },
    {
     "name": "stdout",
     "output_type": "stream",
     "text": [
      "Epoch 1/3, Iter 1/4 Train Loss: 1.4862, Train Accuracy: 49.225%, Val Accuracy: 77.933%\n"
     ]
    },
    {
     "name": "stderr",
     "output_type": "stream",
     "text": [
      "100%|██████████| 976/976 [03:42<00:00,  4.39it/s]\n",
      "  0%|          | 0/976 [00:00<?, ?it/s]"
     ]
    },
    {
     "name": "stdout",
     "output_type": "stream",
     "text": [
      "Epoch 1/3, Iter 2/4 Train Loss: 1.3380, Train Accuracy: 66.358%, Val Accuracy: 87.043%\n"
     ]
    },
    {
     "name": "stderr",
     "output_type": "stream",
     "text": [
      "100%|██████████| 976/976 [03:55<00:00,  4.14it/s]\n",
      "  0%|          | 0/976 [00:00<?, ?it/s]"
     ]
    },
    {
     "name": "stdout",
     "output_type": "stream",
     "text": [
      "Epoch 1/3, Iter 3/4 Train Loss: 1.2735, Train Accuracy: 73.705%, Val Accuracy: 89.887%\n"
     ]
    },
    {
     "name": "stderr",
     "output_type": "stream",
     "text": [
      "100%|██████████| 976/976 [03:50<00:00,  4.23it/s]\n",
      "  0%|          | 0/976 [00:00<?, ?it/s]"
     ]
    },
    {
     "name": "stdout",
     "output_type": "stream",
     "text": [
      "Epoch 1/3, Iter 4/4 Train Loss: 1.2367, Train Accuracy: 77.782%, Val Accuracy: 90.004%\n"
     ]
    },
    {
     "name": "stderr",
     "output_type": "stream",
     "text": [
      "100%|██████████| 976/976 [03:53<00:00,  4.18it/s]\n",
      "  0%|          | 0/976 [00:00<?, ?it/s]"
     ]
    },
    {
     "name": "stdout",
     "output_type": "stream",
     "text": [
      "Epoch 2/3, Iter 1/4 Train Loss: 1.1194, Train Accuracy: 90.559%, Val Accuracy: 90.655%\n"
     ]
    },
    {
     "name": "stderr",
     "output_type": "stream",
     "text": [
      "100%|██████████| 976/976 [03:58<00:00,  4.10it/s]\n",
      "  0%|          | 1/976 [00:00<02:11,  7.41it/s]"
     ]
    },
    {
     "name": "stdout",
     "output_type": "stream",
     "text": [
      "Epoch 2/3, Iter 2/4 Train Loss: 1.1174, Train Accuracy: 90.729%, Val Accuracy: 91.004%\n"
     ]
    },
    {
     "name": "stderr",
     "output_type": "stream",
     "text": [
      "100%|██████████| 976/976 [03:40<00:00,  4.43it/s]\n",
      "  0%|          | 0/976 [00:00<?, ?it/s]"
     ]
    },
    {
     "name": "stdout",
     "output_type": "stream",
     "text": [
      "Epoch 2/3, Iter 3/4 Train Loss: 1.1159, Train Accuracy: 90.877%, Val Accuracy: 91.177%\n"
     ]
    },
    {
     "name": "stderr",
     "output_type": "stream",
     "text": [
      "100%|██████████| 976/976 [03:09<00:00,  5.15it/s]\n",
      "  0%|          | 0/976 [00:00<?, ?it/s]"
     ]
    },
    {
     "name": "stdout",
     "output_type": "stream",
     "text": [
      "Epoch 2/3, Iter 4/4 Train Loss: 1.1148, Train Accuracy: 90.996%, Val Accuracy: 91.440%\n"
     ]
    },
    {
     "name": "stderr",
     "output_type": "stream",
     "text": [
      "100%|██████████| 976/976 [05:41<00:00,  2.85it/s]\n",
      "  0%|          | 0/976 [00:00<?, ?it/s]"
     ]
    },
    {
     "name": "stdout",
     "output_type": "stream",
     "text": [
      "Epoch 3/3, Iter 1/4 Train Loss: 1.1095, Train Accuracy: 91.546%, Val Accuracy: 91.595%\n"
     ]
    },
    {
     "name": "stderr",
     "output_type": "stream",
     "text": [
      "100%|██████████| 976/976 [04:33<00:00,  3.57it/s]\n",
      "  0%|          | 0/976 [00:00<?, ?it/s]"
     ]
    },
    {
     "name": "stdout",
     "output_type": "stream",
     "text": [
      "Epoch 3/3, Iter 2/4 Train Loss: 1.1091, Train Accuracy: 91.598%, Val Accuracy: 91.613%\n"
     ]
    },
    {
     "name": "stderr",
     "output_type": "stream",
     "text": [
      "100%|██████████| 976/976 [04:46<00:00,  3.41it/s]\n",
      "  0%|          | 0/976 [00:00<?, ?it/s]"
     ]
    },
    {
     "name": "stdout",
     "output_type": "stream",
     "text": [
      "Epoch 3/3, Iter 3/4 Train Loss: 1.1087, Train Accuracy: 91.642%, Val Accuracy: 91.813%\n"
     ]
    },
    {
     "name": "stderr",
     "output_type": "stream",
     "text": [
      "100%|██████████| 976/976 [03:58<00:00,  4.10it/s]\n"
     ]
    },
    {
     "name": "stdout",
     "output_type": "stream",
     "text": [
      "Epoch 3/3, Iter 4/4 Train Loss: 1.1084, Train Accuracy: 91.677%, Val Accuracy: 91.835%\n"
     ]
    }
   ],
   "source": [
    "model, losses, accs = train(model, train_batched, num_epochs= 6,\n",
    "                            lr= 0.001, lr_floor= 0.00001,\n",
    "                            class_weights= class_weights)"
   ]
  },
  {
   "cell_type": "code",
   "execution_count": 20,
   "metadata": {},
   "outputs": [
    {
     "data": {
      "image/png": "[encoded data removed]",
      "text/plain": [
       "<Figure size 864x432 with 2 Axes>"
      ]
     },
     "metadata": {},
     "output_type": "display_data"
    }
   ],
   "source": [
    "plot_loss_acc(loss= losses, accs= accs, modelname= 'cnn', plot= True)"
   ]
  },
  {
   "cell_type": "code",
   "execution_count": 21,
   "metadata": {},
   "outputs": [
    {
     "name": "stderr",
     "output_type": "stream",
     "text": [
      "  0%|          | 0/1301 [00:00<?, ?it/s]"
     ]
    },
    {
     "name": "stdout",
     "output_type": "stream",
     "text": [
      "-----------------------------------Evaluating model on test data------------------------------------\n"
     ]
    },
    {
     "name": "stderr",
     "output_type": "stream",
     "text": [
      "100%|██████████| 1301/1301 [00:49<00:00, 26.32it/s]\n"
     ]
    },
    {
     "name": "stdout",
     "output_type": "stream",
     "text": [
      "Average acccuracy: 85.29%\n",
      "Average F1: 88.10%\n"
     ]
    },
    {
     "data": {
      "image/png": "[encoded data removed]",
      "text/plain": [
       "<Figure size 504x504 with 2 Axes>"
      ]
     },
     "metadata": {},
     "output_type": "display_data"
    }
   ],
   "source": [
    "conf_mat = evaluate(model, test_batched)\n",
    "plot_confusion_matrix(conf_matrix= conf_mat, modelname= 'cnn', plot= True)"
   ]
  },
  {
   "cell_type": "code",
   "execution_count": null,
   "metadata": {},
   "outputs": [],
   "source": [
    "accuracies = class_accuracy(conf_mat)\n",
    "f1_scores = class_f1_score(conf_mat)\n",
    "precisions, recalls = class_wise_precision_recall(conf_mat)\n",
    "\n",
    "average_accuracy = np.mean(accuracies)\n",
    "average_f1 = np.mean(f1_scores)\n",
    "\n",
    "print(f\"Average acccuracy: {average_accuracy*100:.2f}%\")\n",
    "print(f\"Average F1: {average_f1*100:.2f}%\")\n",
    "\n",
    "output_df = pd.DataFrame({\"Emotion\":['Sadness','Joy','Love','Anger','Fear','Surprise'],\n",
    "                            'Accuracy':accuracies, 'F1_Score':f1_scores,\n",
    "                            'Precision':precisions, 'Recall':recalls})\n",
    "print(output_df)"
   ]
  },
  {
   "cell_type": "code",
   "execution_count": 23,
   "metadata": {},
   "outputs": [],
   "source": [
    "torch.save(model, f= \"../model/cnn.pth\")"
   ]
  },
  {
   "cell_type": "markdown",
   "metadata": {},
   "source": [
    "# BiLSTM"
   ]
  },
  {
   "cell_type": "code",
   "execution_count": 43,
   "metadata": {},
   "outputs": [],
   "source": [
    "from tqdm import tqdm\n",
    "def train(model, train_dataloader, num_epochs:int, lr:float, lr_floor:float, class_weights:torch.FloatTensor):\n",
    "    device = torch.device(\"cuda\" if torch.cuda.is_available() else \"cpu\")\n",
    "    model.to(device)\n",
    "    criterion = nn.CrossEntropyLoss(weight= class_weights)\n",
    "    optimizer = torch.optim.Adam(model.parameters(), lr= lr)\n",
    "    scheduler = torch.optim.lr_scheduler.CosineAnnealingLR(optimizer,\n",
    "                                                           T_max= num_epochs*4,\n",
    "                                                           eta_min= lr_floor)\n",
    "    print(criterion)\n",
    "    print(optimizer)\n",
    "    print(scheduler)\n",
    "\n",
    "    epoch_loss, epoch_acc = [], []\n",
    "    for epoch in range(num_epochs):\n",
    "        # Training phase\n",
    "        model.train()\n",
    "        train_running_loss = 0.0\n",
    "        train_correct_predictions = 0\n",
    "        train_total_predictions = 0\n",
    "        train_loaders, val_loaders = split_train_val_dataloader(train_dataloader)\n",
    "        loop_ctr = 0\n",
    "        for train_dl, val_dl in zip(train_loaders, val_loaders):\n",
    "            loop_ctr += 1\n",
    "            for batch in tqdm(train_dl):\n",
    "                inputs = batch['padded'].to(device)\n",
    "                labels = batch['label'].to(device)\n",
    "                optimizer.zero_grad()\n",
    "                outputs = model(inputs)\n",
    "                loss = criterion(outputs, labels)\n",
    "                loss.backward()\n",
    "                optimizer.step()\n",
    "                train_running_loss += loss.item() * inputs.size(0)\n",
    "                _, predicted = torch.max(outputs, 1)\n",
    "                train_correct_predictions += (predicted == labels).sum().item()\n",
    "                train_total_predictions += labels.size(0)\n",
    "            scheduler.step()\n",
    "            train_epoch_loss = train_running_loss / (len(train_dl.dataset)*loop_ctr)\n",
    "            train_epoch_accuracy = train_correct_predictions / train_total_predictions\n",
    "            # Validation phase\n",
    "            model.eval()\n",
    "            val_correct_predictions = 0\n",
    "            val_total_predictions = 0\n",
    "            with torch.no_grad():\n",
    "                for batch in val_dl:\n",
    "                    val_inputs = batch['padded'].to(device)\n",
    "                    val_labels = batch['label'].to(device) \n",
    "                    val_outputs = model(val_inputs)\n",
    "                    _, val_predicted = torch.max(val_outputs, 1)\n",
    "                    val_correct_predictions += (val_predicted == val_labels).sum().item()\n",
    "                    val_total_predictions += val_labels.size(0)\n",
    "            val_epoch_accuracy = val_correct_predictions / val_total_predictions\n",
    "            epoch_loss.append(train_epoch_loss)\n",
    "            epoch_acc.append(val_epoch_accuracy)\n",
    "            print(f'Epoch {epoch+1}/{num_epochs}, Iter {loop_ctr}/4 '\n",
    "                f'Train Loss: {train_epoch_loss:.4f}, Train Accuracy: {train_epoch_accuracy*100:.3f}%, '\n",
    "                f'Val Accuracy: {val_epoch_accuracy*100:.3f}%')\n",
    "        \n",
    "    return model, epoch_loss, epoch_acc"
   ]
  },
  {
   "cell_type": "code",
   "execution_count": 47,
   "metadata": {},
   "outputs": [],
   "source": [
    "class BiLSTMModel(nn.Module):\n",
    "    def __init__(self, vocabulary_size:int= 52000,\n",
    "                 embedding_dim:int= 32, hidden_size:int= 16,\n",
    "                 num_classes:int= 6,p:float= 0.3):\n",
    "        super(BiLSTMModel, self).__init__()\n",
    "        self.embedding = nn.Embedding(vocabulary_size, embedding_dim)\n",
    "        self.lstm = nn.LSTM(embedding_dim, hidden_size, bidirectional=True)\n",
    "        self.batchnorm = nn.BatchNorm1d(hidden_size * 2)\n",
    "        self.dropout = nn.Dropout(p)\n",
    "        self.dense = nn.Sequential(nn.Linear(hidden_size*2, hidden_size),\n",
    "                                   nn.ReLU(),\n",
    "                                   nn.Linear(hidden_size, num_classes),\n",
    "                                   nn.Softmax(dim=1))\n",
    "        \n",
    "        # self.apply(init_weights)\n",
    "    \n",
    "    def forward(self, x):\n",
    "        x = self.embedding(x)\n",
    "        x = x.permute(1, 0, 2)  # Change shape for LSTM\n",
    "        _, (x, _) = self.lstm(x)\n",
    "        x = x.permute(1, 0, 2).contiguous().view(x.size(1), -1)  # Flatten LSTM output\n",
    "        x = self.batchnorm(x)\n",
    "        x = self.dropout(x)\n",
    "        x = self.dense(x)\n",
    "        return x"
   ]
  },
  {
   "cell_type": "markdown",
   "metadata": {},
   "source": [
    "### Initialize the model"
   ]
  },
  {
   "cell_type": "code",
   "execution_count": 48,
   "metadata": {},
   "outputs": [
    {
     "name": "stdout",
     "output_type": "stream",
     "text": [
      "BiLSTMModel(\n",
      "  (embedding): Embedding(52000, 32)\n",
      "  (lstm): LSTM(32, 16, bidirectional=True)\n",
      "  (batchnorm): BatchNorm1d(32, eps=1e-05, momentum=0.1, affine=True, track_running_stats=True)\n",
      "  (dropout): Dropout(p=0.3, inplace=False)\n",
      "  (dense): Sequential(\n",
      "    (0): Linear(in_features=32, out_features=16, bias=True)\n",
      "    (1): ReLU()\n",
      "    (2): Linear(in_features=16, out_features=6, bias=True)\n",
      "    (3): Softmax(dim=1)\n",
      "  )\n",
      ")\n"
     ]
    }
   ],
   "source": [
    "model = BiLSTMModel()\n",
    "print(model)"
   ]
  },
  {
   "cell_type": "code",
   "execution_count": 49,
   "metadata": {},
   "outputs": [
    {
     "name": "stdout",
     "output_type": "stream",
     "text": [
      "Number of parameters: 1671094\n"
     ]
    }
   ],
   "source": [
    "print(f\"Number of parameters: {sum(p.numel() for p in model.parameters() if p.requires_grad)}\")"
   ]
  },
  {
   "cell_type": "markdown",
   "metadata": {},
   "source": [
    "### Train the model"
   ]
  },
  {
   "cell_type": "code",
   "execution_count": 50,
   "metadata": {},
   "outputs": [
    {
     "name": "stderr",
     "output_type": "stream",
     "text": [
      "  0%|          | 0/976 [00:00<?, ?it/s]"
     ]
    },
    {
     "name": "stdout",
     "output_type": "stream",
     "text": [
      "CrossEntropyLoss()\n",
      "Adam (\n",
      "Parameter Group 0\n",
      "    amsgrad: False\n",
      "    betas: (0.9, 0.999)\n",
      "    capturable: False\n",
      "    differentiable: False\n",
      "    eps: 1e-08\n",
      "    foreach: None\n",
      "    fused: None\n",
      "    initial_lr: 0.001\n",
      "    lr: 0.001\n",
      "    maximize: False\n",
      "    weight_decay: 0\n",
      ")\n",
      "<torch.optim.lr_scheduler.CosineAnnealingLR object at 0x0000021D91313EE0>\n"
     ]
    },
    {
     "name": "stderr",
     "output_type": "stream",
     "text": [
      "100%|██████████| 976/976 [02:08<00:00,  7.60it/s]\n",
      "  0%|          | 1/976 [00:00<02:16,  7.15it/s]"
     ]
    },
    {
     "name": "stdout",
     "output_type": "stream",
     "text": [
      "Epoch 1/3, Iter 1/4 Train Loss: 1.5584, Train Accuracy: 39.013%, Val Accuracy: 67.534%\n"
     ]
    },
    {
     "name": "stderr",
     "output_type": "stream",
     "text": [
      "100%|██████████| 976/976 [02:20<00:00,  6.94it/s]\n",
      "  0%|          | 0/976 [00:00<?, ?it/s]"
     ]
    },
    {
     "name": "stdout",
     "output_type": "stream",
     "text": [
      "Epoch 1/3, Iter 2/4 Train Loss: 1.3985, Train Accuracy: 57.587%, Val Accuracy: 81.948%\n"
     ]
    },
    {
     "name": "stderr",
     "output_type": "stream",
     "text": [
      "100%|██████████| 976/976 [02:47<00:00,  5.81it/s]\n",
      "  0%|          | 0/976 [00:00<?, ?it/s]"
     ]
    },
    {
     "name": "stdout",
     "output_type": "stream",
     "text": [
      "Epoch 1/3, Iter 3/4 Train Loss: 1.3272, Train Accuracy: 65.923%, Val Accuracy: 84.131%\n"
     ]
    },
    {
     "name": "stderr",
     "output_type": "stream",
     "text": [
      "100%|██████████| 976/976 [03:22<00:00,  4.81it/s]\n",
      "  0%|          | 0/976 [00:00<?, ?it/s]"
     ]
    },
    {
     "name": "stdout",
     "output_type": "stream",
     "text": [
      "Epoch 1/3, Iter 4/4 Train Loss: 1.2863, Train Accuracy: 70.749%, Val Accuracy: 85.861%\n"
     ]
    },
    {
     "name": "stderr",
     "output_type": "stream",
     "text": [
      "100%|██████████| 976/976 [02:29<00:00,  6.51it/s]\n",
      "  0%|          | 0/976 [00:00<?, ?it/s]"
     ]
    },
    {
     "name": "stdout",
     "output_type": "stream",
     "text": [
      "Epoch 2/3, Iter 1/4 Train Loss: 1.1664, Train Accuracy: 84.720%, Val Accuracy: 86.729%\n"
     ]
    },
    {
     "name": "stderr",
     "output_type": "stream",
     "text": [
      "100%|██████████| 976/976 [02:31<00:00,  6.43it/s]\n",
      "  0%|          | 0/976 [00:00<?, ?it/s]"
     ]
    },
    {
     "name": "stdout",
     "output_type": "stream",
     "text": [
      "Epoch 2/3, Iter 2/4 Train Loss: 1.1570, Train Accuracy: 85.897%, Val Accuracy: 87.699%\n"
     ]
    },
    {
     "name": "stderr",
     "output_type": "stream",
     "text": [
      "100%|██████████| 976/976 [02:31<00:00,  6.43it/s]\n",
      "  0%|          | 1/976 [00:00<02:45,  5.88it/s]"
     ]
    },
    {
     "name": "stdout",
     "output_type": "stream",
     "text": [
      "Epoch 2/3, Iter 3/4 Train Loss: 1.1521, Train Accuracy: 86.497%, Val Accuracy: 88.114%\n"
     ]
    },
    {
     "name": "stderr",
     "output_type": "stream",
     "text": [
      "100%|██████████| 976/976 [02:51<00:00,  5.70it/s]\n",
      "  0%|          | 0/976 [00:00<?, ?it/s]"
     ]
    },
    {
     "name": "stdout",
     "output_type": "stream",
     "text": [
      "Epoch 2/3, Iter 4/4 Train Loss: 1.1487, Train Accuracy: 86.927%, Val Accuracy: 88.317%\n"
     ]
    },
    {
     "name": "stderr",
     "output_type": "stream",
     "text": [
      "100%|██████████| 976/976 [02:33<00:00,  6.34it/s]\n",
      "  0%|          | 0/976 [00:00<?, ?it/s]"
     ]
    },
    {
     "name": "stdout",
     "output_type": "stream",
     "text": [
      "Epoch 3/3, Iter 1/4 Train Loss: 1.1442, Train Accuracy: 87.464%, Val Accuracy: 88.378%\n"
     ]
    },
    {
     "name": "stderr",
     "output_type": "stream",
     "text": [
      "100%|██████████| 976/976 [02:29<00:00,  6.53it/s]\n",
      "  0%|          | 0/976 [00:00<?, ?it/s]"
     ]
    },
    {
     "name": "stdout",
     "output_type": "stream",
     "text": [
      "Epoch 3/3, Iter 2/4 Train Loss: 1.1389, Train Accuracy: 88.082%, Val Accuracy: 88.806%\n"
     ]
    },
    {
     "name": "stderr",
     "output_type": "stream",
     "text": [
      "100%|██████████| 976/976 [02:33<00:00,  6.35it/s]\n",
      "  0%|          | 0/976 [00:00<?, ?it/s]"
     ]
    },
    {
     "name": "stdout",
     "output_type": "stream",
     "text": [
      "Epoch 3/3, Iter 3/4 Train Loss: 1.1365, Train Accuracy: 88.358%, Val Accuracy: 88.921%\n"
     ]
    },
    {
     "name": "stderr",
     "output_type": "stream",
     "text": [
      "100%|██████████| 976/976 [02:30<00:00,  6.46it/s]\n"
     ]
    },
    {
     "name": "stdout",
     "output_type": "stream",
     "text": [
      "Epoch 3/3, Iter 4/4 Train Loss: 1.1353, Train Accuracy: 88.513%, Val Accuracy: 89.099%\n"
     ]
    }
   ],
   "source": [
    "model, losses, accs = train(model, train_batched, num_epochs= 6,\n",
    "                            lr= 0.001, lr_floor= 0.00001,\n",
    "                            class_weights= class_weights)"
   ]
  },
  {
   "cell_type": "code",
   "execution_count": 51,
   "metadata": {},
   "outputs": [
    {
     "data": {
      "image/png": "[encoded data removed]",
      "text/plain": [
       "<Figure size 864x432 with 2 Axes>"
      ]
     },
     "metadata": {},
     "output_type": "display_data"
    }
   ],
   "source": [
    "plot_loss_acc(loss= losses, accs= accs, modelname= 'bilstm', plot= True)"
   ]
  },
  {
   "cell_type": "code",
   "execution_count": 52,
   "metadata": {},
   "outputs": [
    {
     "name": "stderr",
     "output_type": "stream",
     "text": [
      "  0%|          | 4/1301 [00:00<00:39, 32.86it/s]"
     ]
    },
    {
     "name": "stdout",
     "output_type": "stream",
     "text": [
      "-----------------------------------Evaluating model on test data------------------------------------\n"
     ]
    },
    {
     "name": "stderr",
     "output_type": "stream",
     "text": [
      "100%|██████████| 1301/1301 [00:26<00:00, 49.95it/s]\n"
     ]
    },
    {
     "name": "stdout",
     "output_type": "stream",
     "text": [
      "Average acccuracy: 82.48%\n",
      "Average F1: 85.38%\n"
     ]
    },
    {
     "data": {
      "image/png": "[encoded data removed]",
      "text/plain": [
       "<Figure size 504x504 with 2 Axes>"
      ]
     },
     "metadata": {},
     "output_type": "display_data"
    }
   ],
   "source": [
    "conf_mat = evaluate(model, test_batched)\n",
    "plot_confusion_matrix(conf_matrix= conf_mat, modelname= 'bilstm', plot= True)"
   ]
  },
  {
   "cell_type": "code",
   "execution_count": null,
   "metadata": {},
   "outputs": [],
   "source": [
    "accuracies = class_accuracy(conf_mat)\n",
    "f1_scores = class_f1_score(conf_mat)\n",
    "precisions, recalls = class_wise_precision_recall(conf_mat)\n",
    "\n",
    "average_accuracy = np.mean(accuracies)\n",
    "average_f1 = np.mean(f1_scores)\n",
    "\n",
    "print(f\"Average acccuracy: {average_accuracy*100:.2f}%\")\n",
    "print(f\"Average F1: {average_f1*100:.2f}%\")\n",
    "\n",
    "output_df = pd.DataFrame({\"Emotion\":['Sadness','Joy','Love','Anger','Fear','Surprise'],\n",
    "                            'Accuracy':accuracies, 'F1_Score':f1_scores,\n",
    "                            'Precision':precisions, 'Recall':recalls})\n",
    "print(output_df)"
   ]
  },
  {
   "cell_type": "code",
   "execution_count": 53,
   "metadata": {},
   "outputs": [],
   "source": [
    "torch.save(model,f= \"../model/bilstm.pth\")"
   ]
  },
  {
   "cell_type": "code",
   "execution_count": null,
   "metadata": {},
   "outputs": [],
   "source": []
  }
 ],
 "metadata": {
  "kernelspec": {
   "display_name": "Python 3",
   "language": "python",
   "name": "python3"
  },
  "language_info": {
   "codemirror_mode": {
    "name": "ipython",
    "version": 3
   },
   "file_extension": ".py",
   "mimetype": "text/x-python",
   "name": "python",
   "nbconvert_exporter": "python",
   "pygments_lexer": "ipython3",
   "version": "3.9.5"
  }
 },
 "nbformat": 4,
 "nbformat_minor": 2
}
