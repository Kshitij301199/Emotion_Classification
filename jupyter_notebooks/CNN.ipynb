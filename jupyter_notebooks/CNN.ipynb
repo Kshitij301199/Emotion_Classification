{
 "cells": [
  {
   "cell_type": "code",
   "execution_count": 1,
   "metadata": {},
   "outputs": [],
   "source": [
    "import pandas as pd\n",
    "import numpy as np\n",
    "import seaborn as sns\n",
    "import matplotlib.pyplot as plt\n",
    "\n",
    "import re\n",
    "import nltk\n",
    "from nltk.corpus import stopwords\n",
    "from nltk.tokenize import word_tokenize\n",
    "from nltk.stem import WordNetLemmatizer\n",
    "from nltk.stem import PorterStemmer\n",
    "\n",
    "from sklearn.model_selection import train_test_split\n",
    "from tensorflow.keras.preprocessing.text import Tokenizer\n",
    "\n",
    "\n",
    "import torch\n",
    "import torch.nn as nn\n",
    "from torch.utils.data import Dataset, DataLoader"
   ]
  },
  {
   "cell_type": "code",
   "execution_count": 2,
   "metadata": {},
   "outputs": [
    {
     "data": {
      "text/html": [
       "<div>\n",
       "<style scoped>\n",
       "    .dataframe tbody tr th:only-of-type {\n",
       "        vertical-align: middle;\n",
       "    }\n",
       "\n",
       "    .dataframe tbody tr th {\n",
       "        vertical-align: top;\n",
       "    }\n",
       "\n",
       "    .dataframe thead th {\n",
       "        text-align: right;\n",
       "    }\n",
       "</style>\n",
       "<table border=\"1\" class=\"dataframe\">\n",
       "  <thead>\n",
       "    <tr style=\"text-align: right;\">\n",
       "      <th></th>\n",
       "      <th>text</th>\n",
       "      <th>label</th>\n",
       "    </tr>\n",
       "  </thead>\n",
       "  <tbody>\n",
       "    <tr>\n",
       "      <th>0</th>\n",
       "      <td>i just feel really helpless and heavy hearted</td>\n",
       "      <td>4</td>\n",
       "    </tr>\n",
       "    <tr>\n",
       "      <th>1</th>\n",
       "      <td>ive enjoyed being able to slouch about relax a...</td>\n",
       "      <td>0</td>\n",
       "    </tr>\n",
       "    <tr>\n",
       "      <th>2</th>\n",
       "      <td>i gave up my internship with the dmrg and am f...</td>\n",
       "      <td>4</td>\n",
       "    </tr>\n",
       "    <tr>\n",
       "      <th>3</th>\n",
       "      <td>i dont know i feel so lost</td>\n",
       "      <td>0</td>\n",
       "    </tr>\n",
       "    <tr>\n",
       "      <th>4</th>\n",
       "      <td>i am a kindergarten teacher and i am thoroughl...</td>\n",
       "      <td>4</td>\n",
       "    </tr>\n",
       "  </tbody>\n",
       "</table>\n",
       "</div>"
      ],
      "text/plain": [
       "                                                text  label\n",
       "0      i just feel really helpless and heavy hearted      4\n",
       "1  ive enjoyed being able to slouch about relax a...      0\n",
       "2  i gave up my internship with the dmrg and am f...      4\n",
       "3                         i dont know i feel so lost      0\n",
       "4  i am a kindergarten teacher and i am thoroughl...      4"
      ]
     },
     "execution_count": 2,
     "metadata": {},
     "output_type": "execute_result"
    }
   ],
   "source": [
    "data = pd.read_csv(\"../data/text.csv\").drop(columns=\"Unnamed: 0\")\n",
    "data.head()"
   ]
  },
  {
   "cell_type": "code",
   "execution_count": 3,
   "metadata": {},
   "outputs": [
    {
     "name": "stdout",
     "output_type": "stream",
     "text": [
      "<class 'pandas.core.frame.DataFrame'>\n",
      "RangeIndex: 416809 entries, 0 to 416808\n",
      "Data columns (total 2 columns):\n",
      " #   Column  Non-Null Count   Dtype \n",
      "---  ------  --------------   ----- \n",
      " 0   text    416809 non-null  object\n",
      " 1   label   416809 non-null  int64 \n",
      "dtypes: int64(1), object(1)\n",
      "memory usage: 6.4+ MB\n"
     ]
    }
   ],
   "source": [
    "data.info()"
   ]
  },
  {
   "cell_type": "code",
   "execution_count": 4,
   "metadata": {},
   "outputs": [
    {
     "data": {
      "text/plain": [
       "686"
      ]
     },
     "execution_count": 4,
     "metadata": {},
     "output_type": "execute_result"
    }
   ],
   "source": [
    "data.duplicated().sum()"
   ]
  },
  {
   "cell_type": "code",
   "execution_count": 5,
   "metadata": {},
   "outputs": [],
   "source": [
    "data.drop_duplicates(inplace= True)"
   ]
  },
  {
   "cell_type": "code",
   "execution_count": 91,
   "metadata": {},
   "outputs": [],
   "source": [
    "def tokenize(sentence: str) -> list:\n",
    "    tokens = word_tokenize(sentence)\n",
    "    return tokens\n",
    "\n",
    "def remove_stopwords(tokens: list) -> str:\n",
    "    stop_words = set(stopwords.words('english'))\n",
    "    tokens_wo_stop_words = [token for token in tokens if token not in stop_words]\n",
    "    # out = \" \".join(tokens_wo_stop_words)\n",
    "    return tokens_wo_stop_words\n",
    "\n",
    "def lemmatize(tokens: list) -> list:\n",
    "    lemmatizer = WordNetLemmatizer()\n",
    "    lemmatized_words = [lemmatizer.lemmatize(token) for token in tokens]\n",
    "    return lemmatized_words\n",
    "\n",
    "def stemming(tokens: list) -> list:\n",
    "    stemmer = PorterStemmer()\n",
    "    stemmed_words = [stemmer.stem(token) for token in tokens]\n",
    "    return stemmed_words"
   ]
  },
  {
   "cell_type": "code",
   "execution_count": 92,
   "metadata": {},
   "outputs": [],
   "source": [
    "data['tokens'] = data['text'].apply(tokenize)\n",
    "data['tokens_stemm'] = data['tokens'].apply(stemming).apply(remove_stopwords)\n",
    "data['tokens_lemma'] = data['tokens'].apply(lemmatize).apply(remove_stopwords)\n",
    "# data['tokens_stemm'] = data['tokens_stemm'].apply(tokenize)\n",
    "# data['tokens_lemma'] = data['tokens_lemma'].apply(tokenize)"
   ]
  },
  {
   "cell_type": "code",
   "execution_count": 93,
   "metadata": {},
   "outputs": [
    {
     "data": {
      "text/html": [
       "<div>\n",
       "<style scoped>\n",
       "    .dataframe tbody tr th:only-of-type {\n",
       "        vertical-align: middle;\n",
       "    }\n",
       "\n",
       "    .dataframe tbody tr th {\n",
       "        vertical-align: top;\n",
       "    }\n",
       "\n",
       "    .dataframe thead th {\n",
       "        text-align: right;\n",
       "    }\n",
       "</style>\n",
       "<table border=\"1\" class=\"dataframe\">\n",
       "  <thead>\n",
       "    <tr style=\"text-align: right;\">\n",
       "      <th></th>\n",
       "      <th>text</th>\n",
       "      <th>label</th>\n",
       "      <th>tokens</th>\n",
       "      <th>tokens_stemm</th>\n",
       "      <th>tokens_lemma</th>\n",
       "    </tr>\n",
       "  </thead>\n",
       "  <tbody>\n",
       "    <tr>\n",
       "      <th>0</th>\n",
       "      <td>i just feel really helpless and heavy hearted</td>\n",
       "      <td>4</td>\n",
       "      <td>[i, just, feel, really, helpless, and, heavy, ...</td>\n",
       "      <td>[feel, realli, helpless, heavi, heart]</td>\n",
       "      <td>[feel, really, helpless, heavy, hearted]</td>\n",
       "    </tr>\n",
       "    <tr>\n",
       "      <th>1</th>\n",
       "      <td>ive enjoyed being able to slouch about relax a...</td>\n",
       "      <td>0</td>\n",
       "      <td>[ive, enjoyed, being, able, to, slouch, about,...</td>\n",
       "      <td>[ive, enjoy, abl, slouch, relax, unwind, frank...</td>\n",
       "      <td>[ive, enjoyed, able, slouch, relax, unwind, fr...</td>\n",
       "    </tr>\n",
       "    <tr>\n",
       "      <th>2</th>\n",
       "      <td>i gave up my internship with the dmrg and am f...</td>\n",
       "      <td>4</td>\n",
       "      <td>[i, gave, up, my, internship, with, the, dmrg,...</td>\n",
       "      <td>[gave, internship, dmrg, feel, distraught]</td>\n",
       "      <td>[gave, internship, dmrg, feeling, distraught]</td>\n",
       "    </tr>\n",
       "    <tr>\n",
       "      <th>3</th>\n",
       "      <td>i dont know i feel so lost</td>\n",
       "      <td>0</td>\n",
       "      <td>[i, dont, know, i, feel, so, lost]</td>\n",
       "      <td>[dont, know, feel, lost]</td>\n",
       "      <td>[dont, know, feel, lost]</td>\n",
       "    </tr>\n",
       "    <tr>\n",
       "      <th>4</th>\n",
       "      <td>i am a kindergarten teacher and i am thoroughl...</td>\n",
       "      <td>4</td>\n",
       "      <td>[i, am, a, kindergarten, teacher, and, i, am, ...</td>\n",
       "      <td>[kindergarten, teacher, thoroughli, weari, job...</td>\n",
       "      <td>[kindergarten, teacher, thoroughly, weary, job...</td>\n",
       "    </tr>\n",
       "    <tr>\n",
       "      <th>5</th>\n",
       "      <td>i was beginning to feel quite disheartened</td>\n",
       "      <td>0</td>\n",
       "      <td>[i, was, beginning, to, feel, quite, dishearte...</td>\n",
       "      <td>[wa, begin, feel, quit, dishearten]</td>\n",
       "      <td>[wa, beginning, feel, quite, disheartened]</td>\n",
       "    </tr>\n",
       "    <tr>\n",
       "      <th>6</th>\n",
       "      <td>i would think that whomever would be lucky eno...</td>\n",
       "      <td>2</td>\n",
       "      <td>[i, would, think, that, whomever, would, be, l...</td>\n",
       "      <td>[would, think, whomev, would, lucki, enough, s...</td>\n",
       "      <td>[would, think, whomever, would, lucky, enough,...</td>\n",
       "    </tr>\n",
       "    <tr>\n",
       "      <th>7</th>\n",
       "      <td>i fear that they won t ever feel that deliciou...</td>\n",
       "      <td>1</td>\n",
       "      <td>[i, fear, that, they, won, t, ever, feel, that...</td>\n",
       "      <td>[fear, ever, feel, delici, excit, christma, ev...</td>\n",
       "      <td>[fear, ever, feel, delicious, excitement, chri...</td>\n",
       "    </tr>\n",
       "    <tr>\n",
       "      <th>8</th>\n",
       "      <td>im forever taking some time out to have a lie ...</td>\n",
       "      <td>5</td>\n",
       "      <td>[im, forever, taking, some, time, out, to, hav...</td>\n",
       "      <td>[im, forev, take, time, lie, becaus, feel, weird]</td>\n",
       "      <td>[im, forever, taking, time, lie, feel, weird]</td>\n",
       "    </tr>\n",
       "    <tr>\n",
       "      <th>9</th>\n",
       "      <td>i can still lose the weight without feeling de...</td>\n",
       "      <td>0</td>\n",
       "      <td>[i, can, still, lose, the, weight, without, fe...</td>\n",
       "      <td>[still, lose, weight, without, feel, depriv]</td>\n",
       "      <td>[still, lose, weight, without, feeling, deprived]</td>\n",
       "    </tr>\n",
       "  </tbody>\n",
       "</table>\n",
       "</div>"
      ],
      "text/plain": [
       "                                                text  label  \\\n",
       "0      i just feel really helpless and heavy hearted      4   \n",
       "1  ive enjoyed being able to slouch about relax a...      0   \n",
       "2  i gave up my internship with the dmrg and am f...      4   \n",
       "3                         i dont know i feel so lost      0   \n",
       "4  i am a kindergarten teacher and i am thoroughl...      4   \n",
       "5         i was beginning to feel quite disheartened      0   \n",
       "6  i would think that whomever would be lucky eno...      2   \n",
       "7  i fear that they won t ever feel that deliciou...      1   \n",
       "8  im forever taking some time out to have a lie ...      5   \n",
       "9  i can still lose the weight without feeling de...      0   \n",
       "\n",
       "                                              tokens  \\\n",
       "0  [i, just, feel, really, helpless, and, heavy, ...   \n",
       "1  [ive, enjoyed, being, able, to, slouch, about,...   \n",
       "2  [i, gave, up, my, internship, with, the, dmrg,...   \n",
       "3                 [i, dont, know, i, feel, so, lost]   \n",
       "4  [i, am, a, kindergarten, teacher, and, i, am, ...   \n",
       "5  [i, was, beginning, to, feel, quite, dishearte...   \n",
       "6  [i, would, think, that, whomever, would, be, l...   \n",
       "7  [i, fear, that, they, won, t, ever, feel, that...   \n",
       "8  [im, forever, taking, some, time, out, to, hav...   \n",
       "9  [i, can, still, lose, the, weight, without, fe...   \n",
       "\n",
       "                                        tokens_stemm  \\\n",
       "0             [feel, realli, helpless, heavi, heart]   \n",
       "1  [ive, enjoy, abl, slouch, relax, unwind, frank...   \n",
       "2         [gave, internship, dmrg, feel, distraught]   \n",
       "3                           [dont, know, feel, lost]   \n",
       "4  [kindergarten, teacher, thoroughli, weari, job...   \n",
       "5                [wa, begin, feel, quit, dishearten]   \n",
       "6  [would, think, whomev, would, lucki, enough, s...   \n",
       "7  [fear, ever, feel, delici, excit, christma, ev...   \n",
       "8  [im, forev, take, time, lie, becaus, feel, weird]   \n",
       "9       [still, lose, weight, without, feel, depriv]   \n",
       "\n",
       "                                        tokens_lemma  \n",
       "0           [feel, really, helpless, heavy, hearted]  \n",
       "1  [ive, enjoyed, able, slouch, relax, unwind, fr...  \n",
       "2      [gave, internship, dmrg, feeling, distraught]  \n",
       "3                           [dont, know, feel, lost]  \n",
       "4  [kindergarten, teacher, thoroughly, weary, job...  \n",
       "5         [wa, beginning, feel, quite, disheartened]  \n",
       "6  [would, think, whomever, would, lucky, enough,...  \n",
       "7  [fear, ever, feel, delicious, excitement, chri...  \n",
       "8      [im, forever, taking, time, lie, feel, weird]  \n",
       "9  [still, lose, weight, without, feeling, deprived]  "
      ]
     },
     "execution_count": 93,
     "metadata": {},
     "output_type": "execute_result"
    }
   ],
   "source": [
    "data.head(10)"
   ]
  },
  {
   "cell_type": "code",
   "execution_count": 312,
   "metadata": {},
   "outputs": [],
   "source": [
    "data = data[~(data['tokens_stemm'].apply(len) == 0)]"
   ]
  },
  {
   "cell_type": "code",
   "execution_count": 313,
   "metadata": {},
   "outputs": [],
   "source": [
    "data.to_csv(\"data_w_stem_lemm.csv\")"
   ]
  },
  {
   "cell_type": "code",
   "execution_count": 95,
   "metadata": {},
   "outputs": [],
   "source": [
    "def get_max_len(column: pd.Series):\n",
    "    max_len = 0\n",
    "    for index, item in column.items():\n",
    "        length = len(item)\n",
    "        if length > max_len:\n",
    "            max_len = length\n",
    "    return max_len\n",
    "\n",
    "def get_unique_words(column: pd.Series):\n",
    "    unique_words = set()\n",
    "    for index, item in column.items():\n",
    "        [unique_words.add(word) for word in item if word not in unique_words]\n",
    "        \n",
    "    return len(unique_words)"
   ]
  },
  {
   "cell_type": "code",
   "execution_count": 96,
   "metadata": {},
   "outputs": [
    {
     "name": "stdout",
     "output_type": "stream",
     "text": [
      "82\n",
      "80\n",
      "51797\n",
      "67592\n"
     ]
    }
   ],
   "source": [
    "print(get_max_len(data['tokens_stemm']))\n",
    "print(get_max_len(data['tokens_lemma']))\n",
    "print(get_unique_words(data['tokens_stemm']))\n",
    "print(get_unique_words(data['tokens_lemma']))"
   ]
  },
  {
   "cell_type": "code",
   "execution_count": 524,
   "metadata": {},
   "outputs": [],
   "source": [
    "data2 = data.iloc[:100000]"
   ]
  },
  {
   "cell_type": "code",
   "execution_count": 525,
   "metadata": {},
   "outputs": [
    {
     "data": {
      "text/plain": [
       "416113"
      ]
     },
     "execution_count": 525,
     "metadata": {},
     "output_type": "execute_result"
    }
   ],
   "source": [
    "len(data)"
   ]
  },
  {
   "cell_type": "code",
   "execution_count": 526,
   "metadata": {},
   "outputs": [
    {
     "data": {
      "text/plain": [
       "100000"
      ]
     },
     "execution_count": 526,
     "metadata": {},
     "output_type": "execute_result"
    }
   ],
   "source": [
    "len(data2)"
   ]
  },
  {
   "cell_type": "code",
   "execution_count": 541,
   "metadata": {},
   "outputs": [],
   "source": [
    "X_train, X_test, y_train, y_test = train_test_split(data['tokens_stemm'], data['label'], test_size=0.2, random_state=42)\n",
    "# 0.125 x 0.8 = 0.1\n",
    "X_train, X_val, y_train, y_val = train_test_split(X_train, y_train, test_size=0.125, random_state=42)"
   ]
  },
  {
   "cell_type": "code",
   "execution_count": 542,
   "metadata": {},
   "outputs": [],
   "source": [
    "train_data = pd.concat((X_train,y_train), axis=1).reset_index()\n",
    "val_data = pd.concat((X_val,y_val), axis=1).reset_index()\n",
    "test_data = pd.concat((X_test,y_test), axis=1).reset_index()"
   ]
  },
  {
   "cell_type": "code",
   "execution_count": 543,
   "metadata": {},
   "outputs": [],
   "source": [
    "tokenizer = Tokenizer(num_words=52000, oov_token=\"<OOV>\")\n",
    "tokenizer.fit_on_texts(X_train)"
   ]
  },
  {
   "cell_type": "code",
   "execution_count": 544,
   "metadata": {},
   "outputs": [
    {
     "data": {
      "text/plain": [
       "[[1]]"
      ]
     },
     "execution_count": 544,
     "metadata": {},
     "output_type": "execute_result"
    }
   ],
   "source": [
    "tokenizer.texts_to_sequences(['<OOV>'])"
   ]
  },
  {
   "cell_type": "code",
   "execution_count": 545,
   "metadata": {},
   "outputs": [],
   "source": [
    "def pad_sequence(sequence: list, max_len:int = 100):\n",
    "    seq = tokenizer.texts_to_sequences(sequence)\n",
    "    seq = [sub_seq if sub_seq != [] else [1] for sub_seq in seq]\n",
    "    try:\n",
    "        seq_ten = torch.tensor(seq).flatten()\n",
    "        out_ten = torch.zeros(size= (max_len,)).long()\n",
    "        out_ten[:seq_ten.size(0)] = seq_ten\n",
    "        return out_ten\n",
    "    except ValueError:\n",
    "        print(seq)\n",
    "        return torch.zeros(size= (max_len,)).long()"
   ]
  },
  {
   "cell_type": "code",
   "execution_count": 546,
   "metadata": {},
   "outputs": [
    {
     "data": {
      "text/html": [
       "<div>\n",
       "<style scoped>\n",
       "    .dataframe tbody tr th:only-of-type {\n",
       "        vertical-align: middle;\n",
       "    }\n",
       "\n",
       "    .dataframe tbody tr th {\n",
       "        vertical-align: top;\n",
       "    }\n",
       "\n",
       "    .dataframe thead th {\n",
       "        text-align: right;\n",
       "    }\n",
       "</style>\n",
       "<table border=\"1\" class=\"dataframe\">\n",
       "  <thead>\n",
       "    <tr style=\"text-align: right;\">\n",
       "      <th></th>\n",
       "      <th>index</th>\n",
       "      <th>tokens_stemm</th>\n",
       "      <th>label</th>\n",
       "      <th>padded</th>\n",
       "    </tr>\n",
       "  </thead>\n",
       "  <tbody>\n",
       "    <tr>\n",
       "      <th>0</th>\n",
       "      <td>216356</td>\n",
       "      <td>[im, feel, virtuou, avoid, chip, aisl, altogeth]</td>\n",
       "      <td>1</td>\n",
       "      <td>[tensor(4), tensor(2), tensor(699), tensor(849...</td>\n",
       "    </tr>\n",
       "    <tr>\n",
       "      <th>1</th>\n",
       "      <td>69696</td>\n",
       "      <td>[im, quit, certain, im, tough, time, battl, th...</td>\n",
       "      <td>3</td>\n",
       "      <td>[tensor(4), tensor(74), tensor(600), tensor(4)...</td>\n",
       "    </tr>\n",
       "    <tr>\n",
       "      <th>2</th>\n",
       "      <td>196326</td>\n",
       "      <td>[wasnt, feel, quit, thi, appreci, howev, shove...</td>\n",
       "      <td>1</td>\n",
       "      <td>[tensor(249), tensor(2), tensor(74), tensor(6)...</td>\n",
       "    </tr>\n",
       "    <tr>\n",
       "      <th>3</th>\n",
       "      <td>207657</td>\n",
       "      <td>[feel, disgust]</td>\n",
       "      <td>3</td>\n",
       "      <td>[tensor(2), tensor(376), tensor(0), tensor(0),...</td>\n",
       "    </tr>\n",
       "    <tr>\n",
       "      <th>4</th>\n",
       "      <td>31333</td>\n",
       "      <td>[feel, fuck, dumb]</td>\n",
       "      <td>0</td>\n",
       "      <td>[tensor(2), tensor(226), tensor(528), tensor(0...</td>\n",
       "    </tr>\n",
       "  </tbody>\n",
       "</table>\n",
       "</div>"
      ],
      "text/plain": [
       "    index                                       tokens_stemm  label  \\\n",
       "0  216356   [im, feel, virtuou, avoid, chip, aisl, altogeth]      1   \n",
       "1   69696  [im, quit, certain, im, tough, time, battl, th...      3   \n",
       "2  196326  [wasnt, feel, quit, thi, appreci, howev, shove...      1   \n",
       "3  207657                                    [feel, disgust]      3   \n",
       "4   31333                                 [feel, fuck, dumb]      0   \n",
       "\n",
       "                                              padded  \n",
       "0  [tensor(4), tensor(2), tensor(699), tensor(849...  \n",
       "1  [tensor(4), tensor(74), tensor(600), tensor(4)...  \n",
       "2  [tensor(249), tensor(2), tensor(74), tensor(6)...  \n",
       "3  [tensor(2), tensor(376), tensor(0), tensor(0),...  \n",
       "4  [tensor(2), tensor(226), tensor(528), tensor(0...  "
      ]
     },
     "execution_count": 546,
     "metadata": {},
     "output_type": "execute_result"
    }
   ],
   "source": [
    "train_data['padded'] = train_data['tokens_stemm'].apply(pad_sequence)\n",
    "val_data['padded'] = val_data['tokens_stemm'].apply(pad_sequence)\n",
    "test_data['padded'] = test_data['tokens_stemm'].apply(pad_sequence)\n",
    "train_data.head()"
   ]
  },
  {
   "cell_type": "code",
   "execution_count": 547,
   "metadata": {},
   "outputs": [],
   "source": [
    "class PandasDataset(Dataset):\n",
    "    def __init__(self, dataframe):\n",
    "        self.dataframe = dataframe[[\"padded\",\"label\"]]\n",
    "\n",
    "    def __len__(self):\n",
    "        return len(self.dataframe)\n",
    "\n",
    "    def __getitem__(self, index):\n",
    "        output = self.dataframe.iloc[index]\n",
    "        return {\n",
    "            \"padded\": output['padded'],\n",
    "            \"label\": output['label']\n",
    "        }"
   ]
  },
  {
   "cell_type": "code",
   "execution_count": 548,
   "metadata": {},
   "outputs": [],
   "source": [
    "X_train_dataset = PandasDataset(train_data)\n",
    "X_val_dataset = PandasDataset(val_data)\n",
    "X_test_dataset = PandasDataset(test_data)"
   ]
  },
  {
   "cell_type": "code",
   "execution_count": 552,
   "metadata": {},
   "outputs": [],
   "source": [
    "X_train_batched = DataLoader(X_train_dataset, batch_size= 256)\n",
    "X_val_batched = DataLoader(X_val_dataset, batch_size= 64)\n",
    "X_test_batched = DataLoader(X_test_dataset, batch_size= 64)"
   ]
  },
  {
   "cell_type": "code",
   "execution_count": 500,
   "metadata": {},
   "outputs": [],
   "source": [
    "def init_weights(m):\n",
    "    if isinstance(m, nn.Linear):\n",
    "        torch.nn.init.xavier_uniform_(m.weight)\n",
    "        m.bias.data.fill_(0.01)\n",
    "        \n",
    "        \n",
    "class CNNTextClassifier(nn.Module):\n",
    "    def __init__(self, \n",
    "                 vocab_size:int = 52000, \n",
    "                 embedding_dim:int = 16, \n",
    "                 input_length:int = 100, \n",
    "                 num_filters:int = 128, \n",
    "                 kernel_size:int = 5, \n",
    "                 hidden_units:int = 64, \n",
    "                 num_classes:int = 6):\n",
    "        super(CNNTextClassifier, self).__init__()\n",
    "        self.embedding = nn.Embedding(vocab_size, embedding_dim)\n",
    "        self.conv1d = nn.Conv1d(in_channels=embedding_dim, out_channels=num_filters, kernel_size=kernel_size)\n",
    "        self.relu = nn.ReLU()\n",
    "        self.maxpool = nn.MaxPool1d(kernel_size=input_length - kernel_size + 1)\n",
    "        self.fc1 = nn.Linear(num_filters, hidden_units)\n",
    "        self.fc2 = nn.Linear(hidden_units, num_classes)\n",
    "        self.softmax = nn.Softmax(dim=1)\n",
    "        \n",
    "        self.apply(init_weights)\n",
    "    \n",
    "    def forward(self, x):\n",
    "        x = self.embedding(x)\n",
    "        x = x.permute(0, 2, 1)  # Change shape for Conv1D\n",
    "        x = self.conv1d(x)\n",
    "        x = self.relu(x)\n",
    "        x = self.maxpool(x)\n",
    "        x = x.squeeze(2)\n",
    "        x = self.fc1(x)\n",
    "        x = self.relu(x)\n",
    "        x = self.fc2(x)\n",
    "        x = self.softmax(x)\n",
    "        return x\n",
    "        \n",
    "        \n",
    "class BiLSTM(nn.Module):\n",
    "    def __init__(self,\n",
    "                input_size:int = 128,\n",
    "                hidden_size:int = 64,\n",
    "                num_layers:int = 1,\n",
    "                output_size:int = 6,\n",
    "                dropout:float = 0.1\n",
    "                ) -> None:\n",
    "        super().__init__()\n",
    "        self.embedding = nn.Embedding(num_embeddings=52000, embedding_dim= input_size)\n",
    "        \n",
    "        self.hidden_size = hidden_size\n",
    "        self.num_layers = num_layers\n",
    "        \n",
    "        self.bilstm = nn.LSTM(input_size = input_size,\n",
    "                              hidden_size = hidden_size,\n",
    "                              num_layers = num_layers,\n",
    "                              bidirectional=True)\n",
    "        \n",
    "        self.dense = nn.Sequential(nn.Dropout(p=dropout),\n",
    "                                   nn.Linear(hidden_size*2, 128),\n",
    "                                   nn.ReLU(),\n",
    "                                   nn.Linear(128, output_size),\n",
    "                                   nn.Softmax(dim=1),\n",
    "        )\n",
    "        \n",
    "        self.apply(init_weights)\n",
    "        \n",
    "    def forward(self, x: torch.TensorType):\n",
    "        emb = self.embedding(x)\n",
    "        \n",
    "        # bilstm\n",
    "        for i in range(emb.size(-2)):\n",
    "            if i == 0:\n",
    "                lstm_out, (hidden,cell) = self.bilstm(emb[:,i,:])\n",
    "            else:\n",
    "                lstm_out, (hidden,cell) = self.bilstm(emb[:,i,:], (hidden,cell))\n",
    "\n",
    "        # Fully connected layers\n",
    "        out = self.dense(lstm_out)\n",
    "\n",
    "        return out"
   ]
  },
  {
   "cell_type": "code",
   "execution_count": 369,
   "metadata": {},
   "outputs": [],
   "source": [
    "from tqdm import tqdm\n",
    "import math"
   ]
  },
  {
   "cell_type": "code",
   "execution_count": 536,
   "metadata": {},
   "outputs": [],
   "source": [
    "def train(model, train_dataloader, val_dataloader, num_epochs, learning_rate):\n",
    "    # import math\n",
    "    \n",
    "    device = torch.device(\"cuda\" if torch.cuda.is_available() else \"cpu\")\n",
    "    model.to(device)\n",
    "    \n",
    "    start_lr = learning_rate * 100\n",
    "    end_lr = learning_rate\n",
    "    criterion = nn.CrossEntropyLoss()\n",
    "    optimizer = torch.optim.Adam(model.parameters(), lr= learning_rate)\n",
    "    \n",
    "    # lr_lambda = lambda x: math.exp(x * math.log(end_lr / start_lr) / num_epochs * len(train_dataloader))\n",
    "    # scheduler = torch.optim.lr_scheduler.LambdaLR(optimizer, lr_lambda)\n",
    "    epoch_loss, epoch_acc = [], []\n",
    "    for epoch in range(num_epochs):\n",
    "        # Training phase\n",
    "        model.train()\n",
    "        train_running_loss = 0.0\n",
    "        train_correct_predictions = 0\n",
    "        train_total_predictions = 0\n",
    "        \n",
    "        for batch in tqdm(train_dataloader):\n",
    "            inputs = batch['padded'].to(device)\n",
    "            labels = batch['label'].to(device)\n",
    "            # print(inputs.size())\n",
    "            \n",
    "            optimizer.zero_grad()\n",
    "            \n",
    "            outputs = model(inputs)\n",
    "            loss = criterion(outputs, labels)\n",
    "            loss.backward()\n",
    "            optimizer.step()\n",
    "            # scheduler.step()\n",
    "            \n",
    "            train_running_loss += loss.item() * inputs.size(0)\n",
    "            \n",
    "            _, predicted = torch.max(outputs, 1)\n",
    "            train_correct_predictions += (predicted == labels).sum().item()\n",
    "            train_total_predictions += labels.size(0)\n",
    "        \n",
    "        train_epoch_loss = train_running_loss / len(train_dataloader.dataset)\n",
    "        train_epoch_accuracy = train_correct_predictions / train_total_predictions\n",
    "        \n",
    "        # Validation phase\n",
    "        model.eval()\n",
    "        val_correct_predictions = 0\n",
    "        val_total_predictions = 0\n",
    "        \n",
    "        with torch.no_grad():\n",
    "            for batch in val_dataloader:\n",
    "                val_inputs = batch['padded'].to(device)\n",
    "                val_labels = batch['label'].to(device)\n",
    "                \n",
    "                val_outputs = model(val_inputs)\n",
    "                _, val_predicted = torch.max(val_outputs, 1)\n",
    "                val_correct_predictions += (val_predicted == val_labels).sum().item()\n",
    "                val_total_predictions += val_labels.size(0)\n",
    "        \n",
    "        val_epoch_accuracy = val_correct_predictions / val_total_predictions\n",
    "        \n",
    "        epoch_loss.append(train_epoch_loss)\n",
    "        epoch_acc.append(val_epoch_accuracy)\n",
    "        \n",
    "        print(f'Epoch {epoch+1}/{num_epochs}, '\n",
    "              f'Train Loss: {train_epoch_loss:.4f}, Train Accuracy: {train_epoch_accuracy:.4f}, '\n",
    "              f'Val Accuracy: {val_epoch_accuracy:.4f}')\n",
    "        \n",
    "    return epoch_loss, epoch_acc"
   ]
  },
  {
   "cell_type": "code",
   "execution_count": 553,
   "metadata": {},
   "outputs": [],
   "source": [
    "model = CNNTextClassifier()"
   ]
  },
  {
   "cell_type": "code",
   "execution_count": 554,
   "metadata": {},
   "outputs": [
    {
     "name": "stderr",
     "output_type": "stream",
     "text": [
      "100%|██████████| 1138/1138 [02:28<00:00,  7.65it/s]\n",
      "  0%|          | 1/1138 [00:00<02:40,  7.10it/s]"
     ]
    },
    {
     "name": "stdout",
     "output_type": "stream",
     "text": [
      "Epoch 1/15, Train Loss: 1.5205, Train Accuracy: 0.5183, Val Accuracy: 0.6602\n"
     ]
    },
    {
     "name": "stderr",
     "output_type": "stream",
     "text": [
      "100%|██████████| 1138/1138 [02:34<00:00,  7.36it/s]\n",
      "  0%|          | 1/1138 [00:00<03:15,  5.81it/s]"
     ]
    },
    {
     "name": "stdout",
     "output_type": "stream",
     "text": [
      "Epoch 2/15, Train Loss: 1.2890, Train Accuracy: 0.7552, Val Accuracy: 0.8111\n"
     ]
    },
    {
     "name": "stderr",
     "output_type": "stream",
     "text": [
      "100%|██████████| 1138/1138 [02:32<00:00,  7.46it/s]\n",
      "  0%|          | 1/1138 [00:00<02:28,  7.66it/s]"
     ]
    },
    {
     "name": "stdout",
     "output_type": "stream",
     "text": [
      "Epoch 3/15, Train Loss: 1.1993, Train Accuracy: 0.8450, Val Accuracy: 0.8546\n"
     ]
    },
    {
     "name": "stderr",
     "output_type": "stream",
     "text": [
      "100%|██████████| 1138/1138 [02:38<00:00,  7.18it/s]\n",
      "  0%|          | 1/1138 [00:00<02:23,  7.92it/s]"
     ]
    },
    {
     "name": "stdout",
     "output_type": "stream",
     "text": [
      "Epoch 4/15, Train Loss: 1.1701, Train Accuracy: 0.8731, Val Accuracy: 0.8717\n"
     ]
    },
    {
     "name": "stderr",
     "output_type": "stream",
     "text": [
      "100%|██████████| 1138/1138 [02:35<00:00,  7.32it/s]\n",
      "  0%|          | 1/1138 [00:00<02:42,  7.00it/s]"
     ]
    },
    {
     "name": "stdout",
     "output_type": "stream",
     "text": [
      "Epoch 5/15, Train Loss: 1.1596, Train Accuracy: 0.8838, Val Accuracy: 0.8762\n"
     ]
    },
    {
     "name": "stderr",
     "output_type": "stream",
     "text": [
      "100%|██████████| 1138/1138 [02:49<00:00,  6.72it/s]\n",
      "  0%|          | 1/1138 [00:00<03:04,  6.16it/s]"
     ]
    },
    {
     "name": "stdout",
     "output_type": "stream",
     "text": [
      "Epoch 6/15, Train Loss: 1.1540, Train Accuracy: 0.8894, Val Accuracy: 0.8792\n"
     ]
    },
    {
     "name": "stderr",
     "output_type": "stream",
     "text": [
      "100%|██████████| 1138/1138 [02:53<00:00,  6.54it/s]\n",
      "  0%|          | 0/1138 [00:00<?, ?it/s]"
     ]
    },
    {
     "name": "stdout",
     "output_type": "stream",
     "text": [
      "Epoch 7/15, Train Loss: 1.1508, Train Accuracy: 0.8926, Val Accuracy: 0.8812\n"
     ]
    },
    {
     "name": "stderr",
     "output_type": "stream",
     "text": [
      "100%|██████████| 1138/1138 [02:41<00:00,  7.04it/s]\n",
      "  0%|          | 1/1138 [00:00<02:32,  7.46it/s]"
     ]
    },
    {
     "name": "stdout",
     "output_type": "stream",
     "text": [
      "Epoch 8/15, Train Loss: 1.1466, Train Accuracy: 0.8968, Val Accuracy: 0.8901\n"
     ]
    },
    {
     "name": "stderr",
     "output_type": "stream",
     "text": [
      "100%|██████████| 1138/1138 [02:38<00:00,  7.17it/s]\n",
      "  0%|          | 0/1138 [00:00<?, ?it/s]"
     ]
    },
    {
     "name": "stdout",
     "output_type": "stream",
     "text": [
      "Epoch 9/15, Train Loss: 1.1359, Train Accuracy: 0.9079, Val Accuracy: 0.8965\n"
     ]
    },
    {
     "name": "stderr",
     "output_type": "stream",
     "text": [
      "100%|██████████| 1138/1138 [02:42<00:00,  7.00it/s]\n",
      "  0%|          | 0/1138 [00:00<?, ?it/s]"
     ]
    },
    {
     "name": "stdout",
     "output_type": "stream",
     "text": [
      "Epoch 10/15, Train Loss: 1.1318, Train Accuracy: 0.9118, Val Accuracy: 0.8985\n"
     ]
    },
    {
     "name": "stderr",
     "output_type": "stream",
     "text": [
      "100%|██████████| 1138/1138 [02:39<00:00,  7.14it/s]\n",
      "  0%|          | 1/1138 [00:00<03:04,  6.16it/s]"
     ]
    },
    {
     "name": "stdout",
     "output_type": "stream",
     "text": [
      "Epoch 11/15, Train Loss: 1.1291, Train Accuracy: 0.9144, Val Accuracy: 0.8983\n"
     ]
    },
    {
     "name": "stderr",
     "output_type": "stream",
     "text": [
      "100%|██████████| 1138/1138 [02:46<00:00,  6.84it/s]\n",
      "  0%|          | 1/1138 [00:00<02:24,  7.86it/s]"
     ]
    },
    {
     "name": "stdout",
     "output_type": "stream",
     "text": [
      "Epoch 12/15, Train Loss: 1.1265, Train Accuracy: 0.9168, Val Accuracy: 0.8991\n"
     ]
    },
    {
     "name": "stderr",
     "output_type": "stream",
     "text": [
      "100%|██████████| 1138/1138 [02:50<00:00,  6.67it/s]\n",
      "  0%|          | 1/1138 [00:00<02:41,  7.06it/s]"
     ]
    },
    {
     "name": "stdout",
     "output_type": "stream",
     "text": [
      "Epoch 13/15, Train Loss: 1.1246, Train Accuracy: 0.9188, Val Accuracy: 0.9003\n"
     ]
    },
    {
     "name": "stderr",
     "output_type": "stream",
     "text": [
      "100%|██████████| 1138/1138 [02:41<00:00,  7.07it/s]\n",
      "  0%|          | 1/1138 [00:00<02:43,  6.96it/s]"
     ]
    },
    {
     "name": "stdout",
     "output_type": "stream",
     "text": [
      "Epoch 14/15, Train Loss: 1.1239, Train Accuracy: 0.9194, Val Accuracy: 0.9017\n"
     ]
    },
    {
     "name": "stderr",
     "output_type": "stream",
     "text": [
      "100%|██████████| 1138/1138 [02:39<00:00,  7.14it/s]\n"
     ]
    },
    {
     "name": "stdout",
     "output_type": "stream",
     "text": [
      "Epoch 15/15, Train Loss: 1.1226, Train Accuracy: 0.9208, Val Accuracy: 0.9016\n"
     ]
    }
   ],
   "source": [
    "losses, accuracies = train(model, X_train_batched, X_val_batched, 15, 0.001)"
   ]
  },
  {
   "cell_type": "code",
   "execution_count": 539,
   "metadata": {},
   "outputs": [],
   "source": [
    "def confusion_matrix(y_pred, y_true, num_classes):\n",
    "    \"\"\"\n",
    "    Create a confusion matrix for label encodings in PyTorch.\n",
    "\n",
    "    Parameters:\n",
    "    y_pred (torch.Tensor): Predicted labels tensor.\n",
    "    y_true (torch.Tensor): True labels tensor.\n",
    "    num_classes (int): Number of classes.\n",
    "\n",
    "    Returns:\n",
    "    numpy.ndarray: Confusion matrix.\n",
    "    \"\"\" \n",
    "    # if len(y_pred) != len(y_true):\n",
    "    #     raise ValueError(\"Shapes of predictions and true labels must match. y_pred shape: {} y_true shape: {}\".format(y_pred.shape, y_true.shape))\n",
    "\n",
    "    conf_matrix = np.zeros((num_classes, num_classes), dtype=np.int64)\n",
    "\n",
    "    y_pred_np = y_pred.argmax(dim=1).cpu().numpy()\n",
    "    y_true_np = y_true.cpu().numpy()\n",
    "\n",
    "    for pred, true in zip(y_pred_np, y_true_np):\n",
    "        conf_matrix[pred, true] += 1\n",
    "\n",
    "    return conf_matrix\n",
    "\n",
    "def calculate_confusion_matrix(test_emb, test_labels, model):\n",
    "    model.eval()\n",
    "    output = model(test_emb)\n",
    "    return confusion_matrix(output, test_labels, 6)\n",
    "\n",
    "def class_accuracy(conf_matrix):\n",
    "    \"\"\"\n",
    "    Calculate accuracy for each class based on a confusion matrix.\n",
    "\n",
    "    Parameters:\n",
    "    conf_matrix (numpy.ndarray): Confusion matrix.\n",
    "\n",
    "    Returns:\n",
    "    list: List of accuracies for each class.\n",
    "    \"\"\"\n",
    "    # diagonal = np.diag(conf_matrix)\n",
    "\n",
    "    # row_sums = conf_matrix.sum(axis=1)\n",
    "\n",
    "    # accuracies = diagonal / row_sums.astype(float)\n",
    "\n",
    "    # return accuracies\n",
    "    \n",
    "    diagonal = np.diag(conf_matrix)\n",
    "    row_sums = conf_matrix.sum(axis=1)\n",
    "\n",
    "    with np.errstate(divide='ignore', invalid='ignore'):\n",
    "        accuracies = np.where(row_sums != 0, diagonal / row_sums.astype(float), 0.0)\n",
    "\n",
    "    return accuracies\n",
    "\n",
    "def class_f1_score(conf_matrix, epsilon=1e-7):\n",
    "    \"\"\"\n",
    "    Calculate F1 score for each class based on a confusion matrix.\n",
    "\n",
    "    Parameters:\n",
    "    conf_matrix (numpy.ndarray): Confusion matrix.\n",
    "    epsilon (float): Smoothing term to avoid division by zero.\n",
    "\n",
    "    Returns:\n",
    "    list: List of F1 scores for each class.\n",
    "    \"\"\"\n",
    "    \n",
    "    tp = np.diag(conf_matrix)\n",
    "    fp = conf_matrix.sum(axis=0) - tp\n",
    "    fn = conf_matrix.sum(axis=1) - tp\n",
    "\n",
    "    precision = tp / (tp + fp + epsilon)\n",
    "    recall = tp / (tp + fn + epsilon)\n",
    "\n",
    "    f1_scores = 2 * (precision * recall) / (precision + recall + epsilon)\n",
    "\n",
    "    return f1_scores"
   ]
  },
  {
   "cell_type": "code",
   "execution_count": 555,
   "metadata": {},
   "outputs": [
    {
     "name": "stderr",
     "output_type": "stream",
     "text": [
      "  0%|          | 0/1301 [00:00<?, ?it/s]"
     ]
    },
    {
     "name": "stderr",
     "output_type": "stream",
     "text": [
      "100%|██████████| 1301/1301 [00:34<00:00, 37.93it/s]"
     ]
    },
    {
     "name": "stdout",
     "output_type": "stream",
     "text": [
      "Accuracies: [0.9238047  0.90075722 0.87041241 0.91210746 0.91165872 0.74483028] \n",
      " Average acccuracy: 87.73%\n",
      "F1 Scores: [0.94925082 0.92756218 0.75259666 0.90526218 0.86510033 0.6970969 ] \n",
      " Average F1: 84.95%\n"
     ]
    },
    {
     "name": "stderr",
     "output_type": "stream",
     "text": [
      "\n"
     ]
    }
   ],
   "source": [
    "cm = None\n",
    "for batch in tqdm(X_test_batched):\n",
    "    inputs = batch['padded']\n",
    "    labels = batch['label']\n",
    "    cm_helper = calculate_confusion_matrix(inputs, labels, model)\n",
    "    if cm is None:\n",
    "        cm = cm_helper\n",
    "    else:\n",
    "        cm = np.add(cm, cm_helper)\n",
    "    \n",
    "accuracies = class_accuracy(cm)\n",
    "f1_scores = class_f1_score(cm)\n",
    "average_accuracy = np.mean(accuracies)\n",
    "average_f1 = np.mean(f1_scores)\n",
    "\n",
    "print(f\"Accuracies: {accuracies} \\n Average acccuracy: {average_accuracy*100:.2f}%\")\n",
    "print(f\"F1 Scores: {f1_scores} \\n Average F1: {average_f1*100:.2f}%\")\n",
    "    "
   ]
  },
  {
   "cell_type": "code",
   "execution_count": 578,
   "metadata": {},
   "outputs": [],
   "source": [
    "import matplotlib.pyplot as plt\n",
    "\n",
    "def plot_confusion_matrix(conf_matrix):\n",
    "    labels = {0: \"sadness\", 1: \"joy\", 2: \"love\", 3: \"anger\", 4: \"fear\", 5: \"surprise\"}\n",
    "    \n",
    "    plt.figure(figsize=(7,7))\n",
    "    plt.imshow(conf_matrix, cmap='coolwarm', interpolation='nearest', vmax=3000)\n",
    "    plt.colorbar()\n",
    "    \n",
    "    plt.xticks(list(labels.keys()), [labels[i] for i in range(len(labels))])\n",
    "    plt.yticks(list(labels.keys()), [labels[i] for i in range(len(labels))])\n",
    "    \n",
    "    plt.xlabel('Predicted label',fontdict={\"fontweight\":\"bold\"})\n",
    "    plt.ylabel('True label',fontdict={\"fontweight\":\"bold\"})\n",
    "    plt.title('Confusion Matrix',fontdict={\"fontsize\":15,\"fontweight\":\"bold\"})\n",
    "    plt.show()"
   ]
  },
  {
   "cell_type": "code",
   "execution_count": 579,
   "metadata": {},
   "outputs": [
    {
     "data": {
      "image/png": "[encoded data removed]",
      "text/plain": [
       "<Figure size 504x504 with 2 Axes>"
      ]
     },
     "metadata": {
      "needs_background": "light"
     },
     "output_type": "display_data"
    }
   ],
   "source": [
    "plot_confusion_matrix(cm)"
   ]
  },
  {
   "cell_type": "code",
   "execution_count": null,
   "metadata": {},
   "outputs": [],
   "source": []
  }
 ],
 "metadata": {
  "kernelspec": {
   "display_name": "Python 3",
   "language": "python",
   "name": "python3"
  },
  "language_info": {
   "codemirror_mode": {
    "name": "ipython",
    "version": 3
   },
   "file_extension": ".py",
   "mimetype": "text/x-python",
   "name": "python",
   "nbconvert_exporter": "python",
   "pygments_lexer": "ipython3",
   "version": "3.9.5"
  }
 },
 "nbformat": 4,
 "nbformat_minor": 2
}
