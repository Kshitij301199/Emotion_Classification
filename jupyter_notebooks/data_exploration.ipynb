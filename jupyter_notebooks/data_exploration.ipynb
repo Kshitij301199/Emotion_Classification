{
 "cells": [
  {
   "cell_type": "code",
   "execution_count": 2,
   "metadata": {},
   "outputs": [],
   "source": [
    "import os, sys\n",
    "\n",
    "import numpy as np\n",
    "import pandas as pd\n",
    "\n",
    "import matplotlib\n",
    "import matplotlib.pyplot as plt\n",
    "import seaborn as sns\n",
    "\n",
    "from collections import Counter\n",
    "from tqdm import tqdm"
   ]
  },
  {
   "cell_type": "code",
   "execution_count": 3,
   "metadata": {},
   "outputs": [
    {
     "data": {
      "text/html": [
       "<div>\n",
       "<style scoped>\n",
       "    .dataframe tbody tr th:only-of-type {\n",
       "        vertical-align: middle;\n",
       "    }\n",
       "\n",
       "    .dataframe tbody tr th {\n",
       "        vertical-align: top;\n",
       "    }\n",
       "\n",
       "    .dataframe thead th {\n",
       "        text-align: right;\n",
       "    }\n",
       "</style>\n",
       "<table border=\"1\" class=\"dataframe\">\n",
       "  <thead>\n",
       "    <tr style=\"text-align: right;\">\n",
       "      <th></th>\n",
       "      <th>text</th>\n",
       "      <th>label</th>\n",
       "    </tr>\n",
       "  </thead>\n",
       "  <tbody>\n",
       "    <tr>\n",
       "      <th>0</th>\n",
       "      <td>i just feel really helpless and heavy hearted</td>\n",
       "      <td>4</td>\n",
       "    </tr>\n",
       "    <tr>\n",
       "      <th>1</th>\n",
       "      <td>ive enjoyed being able to slouch about relax a...</td>\n",
       "      <td>0</td>\n",
       "    </tr>\n",
       "    <tr>\n",
       "      <th>2</th>\n",
       "      <td>i gave up my internship with the dmrg and am f...</td>\n",
       "      <td>4</td>\n",
       "    </tr>\n",
       "    <tr>\n",
       "      <th>3</th>\n",
       "      <td>i dont know i feel so lost</td>\n",
       "      <td>0</td>\n",
       "    </tr>\n",
       "    <tr>\n",
       "      <th>4</th>\n",
       "      <td>i am a kindergarten teacher and i am thoroughl...</td>\n",
       "      <td>4</td>\n",
       "    </tr>\n",
       "  </tbody>\n",
       "</table>\n",
       "</div>"
      ],
      "text/plain": [
       "                                                text  label\n",
       "0      i just feel really helpless and heavy hearted      4\n",
       "1  ive enjoyed being able to slouch about relax a...      0\n",
       "2  i gave up my internship with the dmrg and am f...      4\n",
       "3                         i dont know i feel so lost      0\n",
       "4  i am a kindergarten teacher and i am thoroughl...      4"
      ]
     },
     "execution_count": 3,
     "metadata": {},
     "output_type": "execute_result"
    }
   ],
   "source": [
    "if os.path.exists(\"../data/text_tokenized.csv\"):\n",
    "    data = pd.read_csv(\"../data/text_tokenized.csv\")\n",
    "else:\n",
    "    data = pd.read_csv(\"../data/text.csv\").drop(columns=['Unnamed: 0'])\n",
    "data.head()"
   ]
  },
  {
   "cell_type": "code",
   "execution_count": 4,
   "metadata": {},
   "outputs": [
    {
     "name": "stdout",
     "output_type": "stream",
     "text": [
      "Number of data entries: 416809\n"
     ]
    }
   ],
   "source": [
    "print(f\"Number of data entries: {len(data)}\")"
   ]
  },
  {
   "cell_type": "code",
   "execution_count": 5,
   "metadata": {},
   "outputs": [],
   "source": [
    "emotion_map = {0:\"sadness\", 1:\"joy\", 2: \"love\", 3: \"anger\", 4: \"fear\", 5: \"surprise\"}"
   ]
  },
  {
   "cell_type": "markdown",
   "metadata": {},
   "source": [
    "### Label Distribution"
   ]
  },
  {
   "cell_type": "code",
   "execution_count": 6,
   "metadata": {},
   "outputs": [],
   "source": [
    "labels = [emotion_map[label] for label in data['label']]\n",
    "label_distribution = Counter(labels)"
   ]
  },
  {
   "cell_type": "code",
   "execution_count": 7,
   "metadata": {},
   "outputs": [
    {
     "data": {
      "image/png": "[encoded data removed]",
      "text/plain": [
       "<Figure size 576x396 with 1 Axes>"
      ]
     },
     "metadata": {},
     "output_type": "display_data"
    }
   ],
   "source": [
    "plt.style.use(\"seaborn\")\n",
    "plot = sns.barplot(x= list(label_distribution.keys()), y= list(label_distribution.values()))\n",
    "plot.set_xlabel(\"Emotions\",fontdict={\"fontsize\":10,\"fontweight\":\"bold\"});\n",
    "plot.get_yaxis().set_major_formatter(\n",
    "    matplotlib.ticker.FuncFormatter(lambda x, p: format(int(x), ',')));\n",
    "# plot.ticklabel_format(axis=\"y\",style='plain')"
   ]
  },
  {
   "cell_type": "markdown",
   "metadata": {},
   "source": [
    "### Sentence lengths"
   ]
  },
  {
   "cell_type": "code",
   "execution_count": 8,
   "metadata": {},
   "outputs": [],
   "source": [
    "from transformers import BertTokenizer\n",
    "\n",
    "tokenizer = BertTokenizer.from_pretrained('bert-base-uncased')"
   ]
  },
  {
   "cell_type": "code",
   "execution_count": 9,
   "metadata": {},
   "outputs": [
    {
     "name": "stderr",
     "output_type": "stream",
     "text": [
      "  0%|          | 0/416809 [00:00<?, ?it/s]"
     ]
    },
    {
     "name": "stderr",
     "output_type": "stream",
     "text": [
      "100%|██████████| 416809/416809 [03:15<00:00, 2128.25it/s]\n"
     ]
    }
   ],
   "source": [
    "data['text_tok'] = [tokenizer.tokenize(sentence) for sentence in tqdm(data['text'])]\n",
    "data['sent_len'] = [len(sent_tok) for sent_tok in data['text_tok']]\n",
    "# data.to_csv(\"../data/text_tokenized.csv\")"
   ]
  },
  {
   "cell_type": "code",
   "execution_count": 10,
   "metadata": {},
   "outputs": [
    {
     "name": "stdout",
     "output_type": "stream",
     "text": [
      "Mean Length = 20.31\n",
      "Max Length = 183\n",
      "99% quantile = 55\n"
     ]
    },
    {
     "data": {
      "image/png": "[encoded data removed]",
      "text/plain": [
       "<Figure size 576x396 with 1 Axes>"
      ]
     },
     "metadata": {},
     "output_type": "display_data"
    }
   ],
   "source": [
    "sent_lens_histogram = sns.histplot(data=data, x= 'sent_len', bins= 100);\n",
    "\n",
    "sent_lens_histogram.set_xlabel(\"Sentence Token Lengths\",fontdict={\"fontsize\":10,\"fontweight\":\"bold\"});\n",
    "sent_lens_histogram.set_ylabel(\"Length Frequency\", fontdict={\"fontsize\":10,\"fontweight\":\"bold\"});\n",
    "sent_lens_histogram.get_yaxis().set_major_formatter(\n",
    "    matplotlib.ticker.FuncFormatter(lambda x, p: format(int(x), ',')));\n",
    "sent_lens_histogram.set_title(\"Sentence Token Lengths Distribution\", fontdict={\"fontsize\":15,\"fontweight\":\"bold\"})\n",
    "\n",
    "q = 0.99\n",
    "mean_len = data['sent_len'].mean()\n",
    "max_len = data['sent_len'].max()\n",
    "quantile_len = data['sent_len'].quantile(q)\n",
    "\n",
    "sent_lens_histogram.vlines([mean_len, max_len, quantile_len], ymin=0, ymax=30_000,\n",
    "                           linestyles='solid',linewidth=2, colors='black')\n",
    "print(f\"Mean Length = {mean_len:.2f}\")\n",
    "print(f\"Max Length = {max_len:.0f}\")\n",
    "print(f\"{q*100:.0f}% quantile = {quantile_len:.0f}\")"
   ]
  },
  {
   "cell_type": "code",
   "execution_count": 11,
   "metadata": {},
   "outputs": [
    {
     "data": {
      "text/html": [
       "<div>\n",
       "<style scoped>\n",
       "    .dataframe tbody tr th:only-of-type {\n",
       "        vertical-align: middle;\n",
       "    }\n",
       "\n",
       "    .dataframe tbody tr th {\n",
       "        vertical-align: top;\n",
       "    }\n",
       "\n",
       "    .dataframe thead th {\n",
       "        text-align: right;\n",
       "    }\n",
       "</style>\n",
       "<table border=\"1\" class=\"dataframe\">\n",
       "  <thead>\n",
       "    <tr style=\"text-align: right;\">\n",
       "      <th></th>\n",
       "      <th>text</th>\n",
       "      <th>label</th>\n",
       "      <th>text_tok</th>\n",
       "      <th>sent_len</th>\n",
       "    </tr>\n",
       "  </thead>\n",
       "  <tbody>\n",
       "    <tr>\n",
       "      <th>24</th>\n",
       "      <td>i would imagine this is just one of the reason...</td>\n",
       "      <td>0</td>\n",
       "      <td>[i, would, imagine, this, is, just, one, of, t...</td>\n",
       "      <td>61</td>\n",
       "    </tr>\n",
       "    <tr>\n",
       "      <th>226</th>\n",
       "      <td>i space on we can t blame it in order to read ...</td>\n",
       "      <td>0</td>\n",
       "      <td>[i, space, on, we, can, t, blame, it, in, orde...</td>\n",
       "      <td>60</td>\n",
       "    </tr>\n",
       "    <tr>\n",
       "      <th>305</th>\n",
       "      <td>i don t want to remind him i want him to and y...</td>\n",
       "      <td>1</td>\n",
       "      <td>[i, don, t, want, to, remind, him, i, want, hi...</td>\n",
       "      <td>58</td>\n",
       "    </tr>\n",
       "    <tr>\n",
       "      <th>432</th>\n",
       "      <td>i definitely feel cheated when millions of peo...</td>\n",
       "      <td>0</td>\n",
       "      <td>[i, definitely, feel, cheated, when, millions,...</td>\n",
       "      <td>57</td>\n",
       "    </tr>\n",
       "    <tr>\n",
       "      <th>438</th>\n",
       "      <td>i feel more safe now especially since my psych...</td>\n",
       "      <td>1</td>\n",
       "      <td>[i, feel, more, safe, now, especially, since, ...</td>\n",
       "      <td>60</td>\n",
       "    </tr>\n",
       "    <tr>\n",
       "      <th>...</th>\n",
       "      <td>...</td>\n",
       "      <td>...</td>\n",
       "      <td>...</td>\n",
       "      <td>...</td>\n",
       "    </tr>\n",
       "    <tr>\n",
       "      <th>416301</th>\n",
       "      <td>i feeling like a campagnol fake plastic heads ...</td>\n",
       "      <td>0</td>\n",
       "      <td>[i, feeling, like, a, camp, ##ag, ##no, ##l, f...</td>\n",
       "      <td>58</td>\n",
       "    </tr>\n",
       "    <tr>\n",
       "      <th>416561</th>\n",
       "      <td>i guess ive been a little bit in denial but i ...</td>\n",
       "      <td>4</td>\n",
       "      <td>[i, guess, iv, ##e, been, a, little, bit, in, ...</td>\n",
       "      <td>57</td>\n",
       "    </tr>\n",
       "    <tr>\n",
       "      <th>416638</th>\n",
       "      <td>ive used on my blog i so very wisely decided t...</td>\n",
       "      <td>1</td>\n",
       "      <td>[iv, ##e, used, on, my, blog, i, so, very, wis...</td>\n",
       "      <td>56</td>\n",
       "    </tr>\n",
       "    <tr>\n",
       "      <th>416698</th>\n",
       "      <td>i like the line theyre toeing with michael fio...</td>\n",
       "      <td>2</td>\n",
       "      <td>[i, like, the, line, they, ##re, toe, ##ing, w...</td>\n",
       "      <td>56</td>\n",
       "    </tr>\n",
       "    <tr>\n",
       "      <th>416715</th>\n",
       "      <td>i did not realize i was feeling this until it ...</td>\n",
       "      <td>1</td>\n",
       "      <td>[i, did, not, realize, i, was, feeling, this, ...</td>\n",
       "      <td>59</td>\n",
       "    </tr>\n",
       "  </tbody>\n",
       "</table>\n",
       "<p>4121 rows × 4 columns</p>\n",
       "</div>"
      ],
      "text/plain": [
       "                                                     text  label  \\\n",
       "24      i would imagine this is just one of the reason...      0   \n",
       "226     i space on we can t blame it in order to read ...      0   \n",
       "305     i don t want to remind him i want him to and y...      1   \n",
       "432     i definitely feel cheated when millions of peo...      0   \n",
       "438     i feel more safe now especially since my psych...      1   \n",
       "...                                                   ...    ...   \n",
       "416301  i feeling like a campagnol fake plastic heads ...      0   \n",
       "416561  i guess ive been a little bit in denial but i ...      4   \n",
       "416638  ive used on my blog i so very wisely decided t...      1   \n",
       "416698  i like the line theyre toeing with michael fio...      2   \n",
       "416715  i did not realize i was feeling this until it ...      1   \n",
       "\n",
       "                                                 text_tok  sent_len  \n",
       "24      [i, would, imagine, this, is, just, one, of, t...        61  \n",
       "226     [i, space, on, we, can, t, blame, it, in, orde...        60  \n",
       "305     [i, don, t, want, to, remind, him, i, want, hi...        58  \n",
       "432     [i, definitely, feel, cheated, when, millions,...        57  \n",
       "438     [i, feel, more, safe, now, especially, since, ...        60  \n",
       "...                                                   ...       ...  \n",
       "416301  [i, feeling, like, a, camp, ##ag, ##no, ##l, f...        58  \n",
       "416561  [i, guess, iv, ##e, been, a, little, bit, in, ...        57  \n",
       "416638  [iv, ##e, used, on, my, blog, i, so, very, wis...        56  \n",
       "416698  [i, like, the, line, they, ##re, toe, ##ing, w...        56  \n",
       "416715  [i, did, not, realize, i, was, feeling, this, ...        59  \n",
       "\n",
       "[4121 rows x 4 columns]"
      ]
     },
     "execution_count": 11,
     "metadata": {},
     "output_type": "execute_result"
    }
   ],
   "source": [
    "data[data['sent_len'] > data['sent_len'].quantile(0.99)]"
   ]
  },
  {
   "cell_type": "markdown",
   "metadata": {},
   "source": [
    "## Create train, test and validation splits"
   ]
  },
  {
   "cell_type": "code",
   "execution_count": 12,
   "metadata": {},
   "outputs": [],
   "source": [
    "from sklearn.model_selection import train_test_split"
   ]
  },
  {
   "cell_type": "code",
   "execution_count": 13,
   "metadata": {},
   "outputs": [],
   "source": [
    "X = data['text']\n",
    "y = data['label']"
   ]
  },
  {
   "cell_type": "code",
   "execution_count": 14,
   "metadata": {},
   "outputs": [],
   "source": [
    "X_train, X_test, y_train, y_test = train_test_split(X, y, test_size=0.2, random_state=42) \n",
    "\n",
    "# 0.25 x 0.8 = 0.2\n",
    "X_train, X_val, y_train, y_val = train_test_split(X_train, y_train, test_size=0.25, random_state=42)"
   ]
  },
  {
   "cell_type": "code",
   "execution_count": 15,
   "metadata": {},
   "outputs": [],
   "source": [
    "index_map = {v: k for k, v in emotion_map.items()}\n",
    "\n",
    "def doit(d, order):\n",
    "  return  {k: d[k] for k in sorted(order, key=order.get)}"
   ]
  },
  {
   "cell_type": "code",
   "execution_count": 16,
   "metadata": {},
   "outputs": [],
   "source": [
    "labels = [emotion_map[label] for label in y_train]\n",
    "label_train = doit(Counter(labels), index_map)\n",
    "labels = [emotion_map[label] for label in y_test]\n",
    "label_test = doit(Counter(labels), index_map)\n",
    "labels = [emotion_map[label] for label in y_val]\n",
    "label_val = doit(Counter(labels), index_map)\n",
    "del labels"
   ]
  },
  {
   "cell_type": "code",
   "execution_count": 17,
   "metadata": {},
   "outputs": [
    {
     "data": {
      "text/plain": [
       "{'sadness': 24201,\n",
       " 'joy': 28164,\n",
       " 'love': 6929,\n",
       " 'anger': 11441,\n",
       " 'fear': 9594,\n",
       " 'surprise': 3033}"
      ]
     },
     "execution_count": 17,
     "metadata": {},
     "output_type": "execute_result"
    }
   ],
   "source": [
    "label_test"
   ]
  },
  {
   "cell_type": "code",
   "execution_count": 18,
   "metadata": {},
   "outputs": [
    {
     "data": {
      "image/png": "[encoded data removed]",
      "text/plain": [
       "<Figure size 576x396 with 1 Axes>"
      ]
     },
     "metadata": {},
     "output_type": "display_data"
    }
   ],
   "source": [
    "plt.style.use(\"seaborn\")\n",
    "fig, ax = plt.subplots()\n",
    "\n",
    "ax.bar(list(label_train.keys()), list(label_train.values()), label=\"Train\", color='green');\n",
    "ax.bar(list(label_test.keys()), list(label_test.values()),\n",
    "       bottom= list(label_train.values()), label=\"Test\", color=\"red\");\n",
    "ax.bar(list(label_val.keys()), list(label_val.values()),\n",
    "       bottom= [sum(x) for x in zip(list(label_train.values()),list(label_test.values()))],\n",
    "       label=\"Validation\", color=\"blue\");\n",
    "\n",
    "ax.legend(loc='best')\n",
    "# plot = sns.barplot(x= list(label_train.keys()), y= list(label_train.values()),color='green',alpha=0.7)\n",
    "# sns.barplot(x= list(label_train.keys()), y= list(label_train.values()),color='green',alpha=0.7)\n",
    "ax.set_xlabel(\"Emotions\",fontdict={\"fontsize\":10,\"fontweight\":\"bold\"});\n",
    "ax.set_ylabel(\"Counts\",fontdict={\"fontsize\":10,\"fontweight\":\"bold\"});\n",
    "ax.get_yaxis().set_major_formatter(\n",
    "    matplotlib.ticker.FuncFormatter(lambda x, p: format(int(x), ',')));"
   ]
  },
  {
   "cell_type": "code",
   "execution_count": 18,
   "metadata": {},
   "outputs": [
    {
     "data": {
      "image/png": "[encoded data removed]",
      "text/plain": [
       "<Figure size 576x396 with 1 Axes>"
      ]
     },
     "metadata": {},
     "output_type": "display_data"
    }
   ],
   "source": [
    "fig, ax = plt.subplots()\n",
    "\n",
    "bin_height, bin_width, _ = ax.hist(x= [len(toks) for toks in X_train], bins=50, rwidth=0.9, label=\"Train\", color=\"green\",alpha= 0.9);\n",
    "ax.hist(x= [len(toks) for toks in X_test], bins=bin_width, rwidth=0.9, label=\"Test\", color=\"red\",alpha= 0.7);\n",
    "ax.hist(x= [len(toks) for toks in X_val], bins=bin_width, rwidth=0.9, label=\"Validation\", color=\"blue\", alpha= 0.5);\n",
    "\n",
    "ax.set_xlabel(\"Sentence Token Lengths\",fontdict={\"fontsize\":10,\"fontweight\":\"bold\"});\n",
    "ax.set_ylabel(\"Length Frequency\", fontdict={\"fontsize\":10,\"fontweight\":\"bold\"});\n",
    "ax.get_yaxis().set_major_formatter(\n",
    "    matplotlib.ticker.FuncFormatter(lambda x, p: format(int(x), ',')));\n",
    "ax.set_title(\"Sentence Token Lengths Distribution\", fontdict={\"fontsize\":15,\"fontweight\":\"bold\"});\n",
    "\n",
    "ax.legend(loc='best');"
   ]
  },
  {
   "cell_type": "markdown",
   "metadata": {},
   "source": [
    "### Save data"
   ]
  },
  {
   "cell_type": "code",
   "execution_count": 19,
   "metadata": {},
   "outputs": [],
   "source": [
    "X_train.to_csv(\"../data/train/X.csv\")\n",
    "X_test.to_csv(\"../data/test/X.csv\")\n",
    "X_val.to_csv(\"../data/val/X.csv\")\n",
    "y_train.to_csv(\"../data/train/Y.csv\")\n",
    "y_test.to_csv(\"../data/test/Y.csv\")\n",
    "y_val.to_csv(\"../data/val/Y.csv\")"
   ]
  },
  {
   "cell_type": "code",
   "execution_count": null,
   "metadata": {},
   "outputs": [],
   "source": []
  }
 ],
 "metadata": {
  "kernelspec": {
   "display_name": "Python 3",
   "language": "python",
   "name": "python3"
  },
  "language_info": {
   "codemirror_mode": {
    "name": "ipython",
    "version": 3
   },
   "file_extension": ".py",
   "mimetype": "text/x-python",
   "name": "python",
   "nbconvert_exporter": "python",
   "pygments_lexer": "ipython3",
   "version": "3.9.5"
  }
 },
 "nbformat": 4,
 "nbformat_minor": 2
}
