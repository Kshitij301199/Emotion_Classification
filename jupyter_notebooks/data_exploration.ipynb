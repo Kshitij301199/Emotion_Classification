{
 "cells": [
  {
   "cell_type": "code",
   "execution_count": 7,
   "metadata": {},
   "outputs": [],
   "source": [
    "import os, sys\n",
    "\n",
    "import numpy as np\n",
    "import pandas as pd\n",
    "\n",
    "import matplotlib\n",
    "import matplotlib.pyplot as plt\n",
    "import seaborn as sns\n",
    "\n",
    "from collections import Counter\n",
    "from tqdm import tqdm\n",
    "\n",
    "sys.path.append(os.path.abspath(os.path.join(os.getcwd(),'..')))\n",
    "from utils import tokenize, remove_stopwords, stemming"
   ]
  },
  {
   "cell_type": "code",
   "execution_count": 8,
   "metadata": {},
   "outputs": [
    {
     "data": {
      "text/html": [
       "<div>\n",
       "<style scoped>\n",
       "    .dataframe tbody tr th:only-of-type {\n",
       "        vertical-align: middle;\n",
       "    }\n",
       "\n",
       "    .dataframe tbody tr th {\n",
       "        vertical-align: top;\n",
       "    }\n",
       "\n",
       "    .dataframe thead th {\n",
       "        text-align: right;\n",
       "    }\n",
       "</style>\n",
       "<table border=\"1\" class=\"dataframe\">\n",
       "  <thead>\n",
       "    <tr style=\"text-align: right;\">\n",
       "      <th></th>\n",
       "      <th>text</th>\n",
       "      <th>label</th>\n",
       "    </tr>\n",
       "  </thead>\n",
       "  <tbody>\n",
       "    <tr>\n",
       "      <th>0</th>\n",
       "      <td>i just feel really helpless and heavy hearted</td>\n",
       "      <td>4</td>\n",
       "    </tr>\n",
       "    <tr>\n",
       "      <th>1</th>\n",
       "      <td>ive enjoyed being able to slouch about relax a...</td>\n",
       "      <td>0</td>\n",
       "    </tr>\n",
       "    <tr>\n",
       "      <th>2</th>\n",
       "      <td>i gave up my internship with the dmrg and am f...</td>\n",
       "      <td>4</td>\n",
       "    </tr>\n",
       "    <tr>\n",
       "      <th>3</th>\n",
       "      <td>i dont know i feel so lost</td>\n",
       "      <td>0</td>\n",
       "    </tr>\n",
       "    <tr>\n",
       "      <th>4</th>\n",
       "      <td>i am a kindergarten teacher and i am thoroughl...</td>\n",
       "      <td>4</td>\n",
       "    </tr>\n",
       "  </tbody>\n",
       "</table>\n",
       "</div>"
      ],
      "text/plain": [
       "                                                text  label\n",
       "0      i just feel really helpless and heavy hearted      4\n",
       "1  ive enjoyed being able to slouch about relax a...      0\n",
       "2  i gave up my internship with the dmrg and am f...      4\n",
       "3                         i dont know i feel so lost      0\n",
       "4  i am a kindergarten teacher and i am thoroughl...      4"
      ]
     },
     "execution_count": 8,
     "metadata": {},
     "output_type": "execute_result"
    }
   ],
   "source": [
    "data = pd.read_csv(\"../data/text.csv\").drop(columns=['Unnamed: 0'])\n",
    "data.head()"
   ]
  },
  {
   "cell_type": "code",
   "execution_count": 9,
   "metadata": {},
   "outputs": [
    {
     "name": "stdout",
     "output_type": "stream",
     "text": [
      "Number of data entries: 416809\n"
     ]
    }
   ],
   "source": [
    "print(f\"Number of data entries: {len(data)}\")"
   ]
  },
  {
   "cell_type": "code",
   "execution_count": 10,
   "metadata": {},
   "outputs": [],
   "source": [
    "emotion_map = {0:\"sadness\", 1:\"joy\", 2: \"love\", 3: \"anger\", 4: \"fear\", 5: \"surprise\"}"
   ]
  },
  {
   "cell_type": "markdown",
   "metadata": {},
   "source": [
    "### Label Distribution"
   ]
  },
  {
   "cell_type": "code",
   "execution_count": 11,
   "metadata": {},
   "outputs": [],
   "source": [
    "labels = [emotion_map[label] for label in data['label']]\n",
    "label_distribution = Counter(labels)"
   ]
  },
  {
   "cell_type": "code",
   "execution_count": 12,
   "metadata": {},
   "outputs": [
    {
     "data": {
      "image/png": "[encoded data removed]",
      "text/plain": [
       "<Figure size 576x396 with 1 Axes>"
      ]
     },
     "metadata": {},
     "output_type": "display_data"
    }
   ],
   "source": [
    "plt.style.use(\"seaborn\")\n",
    "plot = sns.barplot(x= list(label_distribution.keys()), y= list(label_distribution.values()))\n",
    "plot.set_xlabel(\"Emotions\",fontdict={\"fontsize\":10,\"fontweight\":\"bold\"});\n",
    "plot.get_yaxis().set_major_formatter(\n",
    "    matplotlib.ticker.FuncFormatter(lambda x, p: format(int(x), ',')));\n",
    "# plot.ticklabel_format(axis=\"y\",style='plain')"
   ]
  },
  {
   "cell_type": "markdown",
   "metadata": {},
   "source": [
    "### Sentence lengths"
   ]
  },
  {
   "cell_type": "code",
   "execution_count": 13,
   "metadata": {},
   "outputs": [],
   "source": [
    "data['tokens_stemm'] = data['text'].apply(tokenize).apply(remove_stopwords).apply(stemming)\n",
    "# data['tokens_stemm'] = data['tokens']\n",
    "data = data[~(data['tokens_stemm'].apply(len) == 0)]"
   ]
  },
  {
   "cell_type": "code",
   "execution_count": 14,
   "metadata": {},
   "outputs": [],
   "source": [
    "data['sent_len'] = [len(sent_tok) for sent_tok in data['tokens_stemm']]\n",
    "# data.to_csv(\"../data/text_tokenized.csv\")"
   ]
  },
  {
   "cell_type": "code",
   "execution_count": 16,
   "metadata": {},
   "outputs": [
    {
     "name": "stdout",
     "output_type": "stream",
     "text": [
      "Mean Length = 9.36\n",
      "Max Length = 79\n",
      "99% quantile = 25\n"
     ]
    },
    {
     "data": {
      "image/png": "[encoded data removed]",
      "text/plain": [
       "<Figure size 576x396 with 1 Axes>"
      ]
     },
     "metadata": {},
     "output_type": "display_data"
    }
   ],
   "source": [
    "sent_lens_histogram = sns.histplot(data=data, x= 'sent_len', bins= 50);\n",
    "\n",
    "sent_lens_histogram.set_xlabel(\"Sentence Token Lengths\",fontdict={\"fontsize\":10,\"fontweight\":\"bold\"});\n",
    "sent_lens_histogram.set_ylabel(\"Length Frequency\", fontdict={\"fontsize\":10,\"fontweight\":\"bold\"});\n",
    "sent_lens_histogram.get_yaxis().set_major_formatter(\n",
    "    matplotlib.ticker.FuncFormatter(lambda x, p: format(int(x), ',')));\n",
    "sent_lens_histogram.set_title(\"Sentence Token Lengths Distribution\", fontdict={\"fontsize\":15,\"fontweight\":\"bold\"})\n",
    "\n",
    "q = 0.99\n",
    "mean_len = data['sent_len'].mean()\n",
    "max_len = data['sent_len'].max()\n",
    "quantile_len = data['sent_len'].quantile(q)\n",
    "\n",
    "sent_lens_histogram.vlines([mean_len, max_len, quantile_len], ymin=0, ymax=30_000,\n",
    "                           linestyles='solid',linewidth=2, colors='black')\n",
    "print(f\"Mean Length = {mean_len:.2f}\")\n",
    "print(f\"Max Length = {max_len:.0f}\")\n",
    "print(f\"{q*100:.0f}% quantile = {quantile_len:.0f}\")"
   ]
  },
  {
   "cell_type": "code",
   "execution_count": 17,
   "metadata": {},
   "outputs": [
    {
     "data": {
      "text/html": [
       "<div>\n",
       "<style scoped>\n",
       "    .dataframe tbody tr th:only-of-type {\n",
       "        vertical-align: middle;\n",
       "    }\n",
       "\n",
       "    .dataframe tbody tr th {\n",
       "        vertical-align: top;\n",
       "    }\n",
       "\n",
       "    .dataframe thead th {\n",
       "        text-align: right;\n",
       "    }\n",
       "</style>\n",
       "<table border=\"1\" class=\"dataframe\">\n",
       "  <thead>\n",
       "    <tr style=\"text-align: right;\">\n",
       "      <th></th>\n",
       "      <th>text</th>\n",
       "      <th>label</th>\n",
       "      <th>tokens_stemm</th>\n",
       "      <th>sent_len</th>\n",
       "    </tr>\n",
       "  </thead>\n",
       "  <tbody>\n",
       "    <tr>\n",
       "      <th>24</th>\n",
       "      <td>i would imagine this is just one of the reason...</td>\n",
       "      <td>0</td>\n",
       "      <td>[would, imagin, one, reason, marriag, hard, th...</td>\n",
       "      <td>26</td>\n",
       "    </tr>\n",
       "    <tr>\n",
       "      <th>116</th>\n",
       "      <td>i really love reading bible because i can feel...</td>\n",
       "      <td>5</td>\n",
       "      <td>[realli, love, read, bibl, feel, presenc, lord...</td>\n",
       "      <td>27</td>\n",
       "    </tr>\n",
       "    <tr>\n",
       "      <th>175</th>\n",
       "      <td>i know the signs elevated resting heart rate m...</td>\n",
       "      <td>3</td>\n",
       "      <td>[know, sign, elev, rest, heart, rate, mood, sw...</td>\n",
       "      <td>29</td>\n",
       "    </tr>\n",
       "    <tr>\n",
       "      <th>290</th>\n",
       "      <td>i must say i feel a little jaded because my or...</td>\n",
       "      <td>0</td>\n",
       "      <td>[must, say, feel, littl, jade, organis, heart,...</td>\n",
       "      <td>29</td>\n",
       "    </tr>\n",
       "    <tr>\n",
       "      <th>340</th>\n",
       "      <td>i get to go to mass every day and that i met t...</td>\n",
       "      <td>4</td>\n",
       "      <td>[get, go, mass, everi, day, met, super, kind, ...</td>\n",
       "      <td>28</td>\n",
       "    </tr>\n",
       "    <tr>\n",
       "      <th>...</th>\n",
       "      <td>...</td>\n",
       "      <td>...</td>\n",
       "      <td>...</td>\n",
       "      <td>...</td>\n",
       "    </tr>\n",
       "    <tr>\n",
       "      <th>416484</th>\n",
       "      <td>i learned two things that power including the ...</td>\n",
       "      <td>4</td>\n",
       "      <td>[learn, two, thing, power, includ, power, hit,...</td>\n",
       "      <td>26</td>\n",
       "    </tr>\n",
       "    <tr>\n",
       "      <th>416561</th>\n",
       "      <td>i guess ive been a little bit in denial but i ...</td>\n",
       "      <td>4</td>\n",
       "      <td>[guess, ive, littl, bit, denial, suddenli, rea...</td>\n",
       "      <td>29</td>\n",
       "    </tr>\n",
       "    <tr>\n",
       "      <th>416638</th>\n",
       "      <td>ive used on my blog i so very wisely decided t...</td>\n",
       "      <td>1</td>\n",
       "      <td>[ive, use, blog, wise, decid, phone, blog, cou...</td>\n",
       "      <td>28</td>\n",
       "    </tr>\n",
       "    <tr>\n",
       "      <th>416715</th>\n",
       "      <td>i did not realize i was feeling this until it ...</td>\n",
       "      <td>1</td>\n",
       "      <td>[realiz, feel, becam, pattern, would, feel, me...</td>\n",
       "      <td>30</td>\n",
       "    </tr>\n",
       "    <tr>\n",
       "      <th>416785</th>\n",
       "      <td>i have encountered lately including feeling li...</td>\n",
       "      <td>3</td>\n",
       "      <td>[encount, late, includ, feel, like, univers, h...</td>\n",
       "      <td>26</td>\n",
       "    </tr>\n",
       "  </tbody>\n",
       "</table>\n",
       "<p>4027 rows × 4 columns</p>\n",
       "</div>"
      ],
      "text/plain": [
       "                                                     text  label  \\\n",
       "24      i would imagine this is just one of the reason...      0   \n",
       "116     i really love reading bible because i can feel...      5   \n",
       "175     i know the signs elevated resting heart rate m...      3   \n",
       "290     i must say i feel a little jaded because my or...      0   \n",
       "340     i get to go to mass every day and that i met t...      4   \n",
       "...                                                   ...    ...   \n",
       "416484  i learned two things that power including the ...      4   \n",
       "416561  i guess ive been a little bit in denial but i ...      4   \n",
       "416638  ive used on my blog i so very wisely decided t...      1   \n",
       "416715  i did not realize i was feeling this until it ...      1   \n",
       "416785  i have encountered lately including feeling li...      3   \n",
       "\n",
       "                                             tokens_stemm  sent_len  \n",
       "24      [would, imagin, one, reason, marriag, hard, th...        26  \n",
       "116     [realli, love, read, bibl, feel, presenc, lord...        27  \n",
       "175     [know, sign, elev, rest, heart, rate, mood, sw...        29  \n",
       "290     [must, say, feel, littl, jade, organis, heart,...        29  \n",
       "340     [get, go, mass, everi, day, met, super, kind, ...        28  \n",
       "...                                                   ...       ...  \n",
       "416484  [learn, two, thing, power, includ, power, hit,...        26  \n",
       "416561  [guess, ive, littl, bit, denial, suddenli, rea...        29  \n",
       "416638  [ive, use, blog, wise, decid, phone, blog, cou...        28  \n",
       "416715  [realiz, feel, becam, pattern, would, feel, me...        30  \n",
       "416785  [encount, late, includ, feel, like, univers, h...        26  \n",
       "\n",
       "[4027 rows x 4 columns]"
      ]
     },
     "execution_count": 17,
     "metadata": {},
     "output_type": "execute_result"
    }
   ],
   "source": [
    "data[data['sent_len'] > data['sent_len'].quantile(0.99)]"
   ]
  },
  {
   "cell_type": "markdown",
   "metadata": {},
   "source": [
    "## Create train, test and validation splits"
   ]
  },
  {
   "cell_type": "code",
   "execution_count": 18,
   "metadata": {},
   "outputs": [],
   "source": [
    "from sklearn.model_selection import train_test_split"
   ]
  },
  {
   "cell_type": "code",
   "execution_count": 19,
   "metadata": {},
   "outputs": [],
   "source": [
    "x_train, x_test, y_train, y_test = train_test_split(data['tokens_stemm'], data['label'], test_size=0.2, random_state=42)"
   ]
  },
  {
   "cell_type": "code",
   "execution_count": 20,
   "metadata": {},
   "outputs": [],
   "source": [
    "index_map = {v: k for k, v in emotion_map.items()}\n",
    "\n",
    "def doit(d, order):\n",
    "  return  {k: d[k] for k in sorted(order, key=order.get)}"
   ]
  },
  {
   "cell_type": "code",
   "execution_count": 21,
   "metadata": {},
   "outputs": [],
   "source": [
    "labels = [emotion_map[label] for label in y_train]\n",
    "label_train = doit(Counter(labels), index_map)\n",
    "labels = [emotion_map[label] for label in y_test]\n",
    "label_test = doit(Counter(labels), index_map)"
   ]
  },
  {
   "cell_type": "code",
   "execution_count": 22,
   "metadata": {},
   "outputs": [
    {
     "data": {
      "text/plain": [
       "{'sadness': 24410,\n",
       " 'joy': 28220,\n",
       " 'love': 6892,\n",
       " 'anger': 11423,\n",
       " 'fear': 9399,\n",
       " 'surprise': 3015}"
      ]
     },
     "execution_count": 22,
     "metadata": {},
     "output_type": "execute_result"
    }
   ],
   "source": [
    "label_test"
   ]
  },
  {
   "cell_type": "code",
   "execution_count": 23,
   "metadata": {},
   "outputs": [
    {
     "data": {
      "image/png": "[encoded data removed]",
      "text/plain": [
       "<Figure size 576x396 with 1 Axes>"
      ]
     },
     "metadata": {},
     "output_type": "display_data"
    }
   ],
   "source": [
    "plt.style.use(\"seaborn\")\n",
    "fig, ax = plt.subplots()\n",
    "\n",
    "ax.bar(list(label_train.keys()), list(label_train.values()), label=\"Train\", color='green');\n",
    "ax.bar(list(label_test.keys()), list(label_test.values()),\n",
    "       bottom= list(label_train.values()), label=\"Test\", color=\"red\");\n",
    "\n",
    "ax.legend(loc='best')\n",
    "# plot = sns.barplot(x= list(label_train.keys()), y= list(label_train.values()),color='green',alpha=0.7)\n",
    "# sns.barplot(x= list(label_train.keys()), y= list(label_train.values()),color='green',alpha=0.7)\n",
    "ax.set_xlabel(\"Emotions\",fontdict={\"fontsize\":10,\"fontweight\":\"bold\"});\n",
    "ax.set_ylabel(\"Counts\",fontdict={\"fontsize\":10,\"fontweight\":\"bold\"});\n",
    "ax.get_yaxis().set_major_formatter(\n",
    "    matplotlib.ticker.FuncFormatter(lambda x, p: format(int(x), ',')));"
   ]
  },
  {
   "cell_type": "code",
   "execution_count": 24,
   "metadata": {},
   "outputs": [
    {
     "data": {
      "image/png": "[encoded data removed]",
      "text/plain": [
       "<Figure size 576x396 with 1 Axes>"
      ]
     },
     "metadata": {},
     "output_type": "display_data"
    }
   ],
   "source": [
    "fig, ax = plt.subplots()\n",
    "\n",
    "bin_height, bin_width, _ = ax.hist(x= [len(toks) for toks in x_train], bins=50, rwidth=0.9, label=\"Train\", color=\"green\",alpha= 0.9);\n",
    "ax.hist(x= [len(toks) for toks in x_test], bins=bin_width, rwidth=0.9, label=\"Test\", color=\"red\",alpha= 0.7);\n",
    "\n",
    "ax.set_xlabel(\"Sentence Token Lengths\",fontdict={\"fontsize\":10,\"fontweight\":\"bold\"});\n",
    "ax.set_ylabel(\"Length Frequency\", fontdict={\"fontsize\":10,\"fontweight\":\"bold\"});\n",
    "ax.get_yaxis().set_major_formatter(\n",
    "    matplotlib.ticker.FuncFormatter(lambda x, p: format(int(x), ',')));\n",
    "ax.set_title(\"Sentence Token Lengths Distribution\", fontdict={\"fontsize\":15,\"fontweight\":\"bold\"});\n",
    "\n",
    "ax.legend(loc='best');"
   ]
  },
  {
   "cell_type": "markdown",
   "metadata": {},
   "source": [
    "# Class Weights Balance\n"
   ]
  },
  {
   "cell_type": "code",
   "execution_count": 18,
   "metadata": {},
   "outputs": [],
   "source": [
    "import numpy as np\n",
    "from sklearn.utils.class_weight import compute_class_weight\n",
    "\n",
    "class_weights = compute_class_weight(class_weight = \"balanced\",\n",
    "                                        classes = np.unique(y_train),\n",
    "                                        y = y_train)\n",
    "class_weights = dict(zip(np.unique(y_train), class_weights))"
   ]
  },
  {
   "cell_type": "code",
   "execution_count": 19,
   "metadata": {},
   "outputs": [
    {
     "data": {
      "text/plain": [
       "{0: 0.5730663293598962,\n",
       " 1: 0.4920821379801581,\n",
       " 2: 2.0206929429065466,\n",
       " 3: 1.2151846452866861,\n",
       " 4: 1.4487099278208382,\n",
       " 5: 4.656556064499311}"
      ]
     },
     "execution_count": 19,
     "metadata": {},
     "output_type": "execute_result"
    }
   ],
   "source": [
    "class_weights"
   ]
  },
  {
   "cell_type": "code",
   "execution_count": null,
   "metadata": {},
   "outputs": [],
   "source": []
  }
 ],
 "metadata": {
  "kernelspec": {
   "display_name": "Python 3",
   "language": "python",
   "name": "python3"
  },
  "language_info": {
   "codemirror_mode": {
    "name": "ipython",
    "version": 3
   },
   "file_extension": ".py",
   "mimetype": "text/x-python",
   "name": "python",
   "nbconvert_exporter": "python",
   "pygments_lexer": "ipython3",
   "version": "3.9.5"
  }
 },
 "nbformat": 4,
 "nbformat_minor": 2
}
